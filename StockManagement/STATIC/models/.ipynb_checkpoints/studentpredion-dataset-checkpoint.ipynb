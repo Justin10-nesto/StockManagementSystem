{
 "cells": [
  {
   "cell_type": "code",
   "execution_count": 1,
   "metadata": {},
   "outputs": [],
   "source": [
    "import numpy as np\n",
    "import pandas as pd\n",
    "import random\n",
    "from sklearn.tree import DecisionTreeRegressor\n",
    "from sklearn.model_selection import  train_test_split\n",
    "from sklearn.metrics import  mean_squared_error, mean_absolute_error\n",
    "import joblib"
   ]
  },
  {
   "cell_type": "code",
   "execution_count": null,
   "metadata": {},
   "outputs": [],
   "source": [
    "all_subjects = ['Civics', 'Basic Mathematics', 'History', 'Geography', 'Kiswahili', 'English Language',  'Chemistry', 'Bilogy', 'Physics', 'Agriculture', 'Franch', 'Neutrition', 'Commerce', 'Computer,', 'Economics', 'Advance Mathematics', '--']\n",
    "exam_type_markers= ['internal', 'external']\n",
    "exam_type = ['mid-term', 'terminal', 'Annual', 'Mock', 'Final']\n",
    "student_class = [1,2,3,4,5,6]"
   ]
  },
  {
   "cell_type": "code",
   "execution_count": null,
   "metadata": {},
   "outputs": [],
   "source": [
    "student_details = {'subject':[], 'exam_type':[], 'exam_type_markers':[], 'class':[],\n",
    " 'hours_of_studying':[], 'participation_in_group':[], 'group_parlagrims':[],\n",
    "  'individual_paralligms':[], 'assigments_individual':[], 'assigments_group':[],\n",
    " 'previous_marks':[], 'panctuality':[], 'Predicted Marks':[]}"
   ]
  },
  {
   "cell_type": "code",
   "execution_count": null,
   "metadata": {},
   "outputs": [],
   "source": [
    "for i in range(0, 10000):\n",
    "    subject_selected = random.choice(all_subjects)\n",
    "    exam_type_selected = random.choice(exam_type)\n",
    "    exam_type_markers_selected = random.choice(exam_type_markers)\n",
    "    student_class_selected = random.choice(student_class)\n",
    "    if student_class_selected%2 == 1:\n",
    "        exam_type_index = random.randint(0,2)\n",
    "        exam_type_selected = exam_type[exam_type_index]\n",
    "        exam_type_markers = 'internal'\n",
    "    previous_marks_selected = random.randint(0,100)\n",
    "    no_days = random.randint(30, (6*365)+1)\n",
    "    studying_time_day = random.randint(0,no_days)\n",
    "\n",
    "    hours_of_studying_selected = (studying_time_day/no_days)*100\n",
    "    total_tasks = random.randint(1,10)\n",
    "    tasks_done = random.randint(0,total_tasks)\n",
    "    \n",
    "    participation_in_group_selected = (tasks_done/total_tasks) *100\n",
    "    no_assigments_group = random.randint(1,10)\n",
    "    group_parlagrims_rry = []\n",
    "    group_parlagrims_selected = 0\n",
    "    if no_assigments_group>1:\n",
    "        for i in range(no_assigments_group):\n",
    "            palarism = random.randint(0,100)\n",
    "            group_parlagrims_rry.append(palarism)\n",
    "        group_parlagrims_selected = sum(group_parlagrims_rry)/no_assigments_group\n",
    "\n",
    "    no_assigments_individual = random.randint(1,10)\n",
    "    individual_parlagrims_rry = []\n",
    "    individual_parlagrims_selected = 0\n",
    "    if no_assigments_individual>1:\n",
    "        for i in range(no_assigments_individual):\n",
    "            palarism = random.randint(0,100)\n",
    "            individual_parlagrims_rry.append(palarism)\n",
    "        individual_parlagrims_selected = sum(individual_parlagrims_rry)/no_assigments_individual\n",
    "    panctuality_arry = []\n",
    "    group_assigment_rry = []\n",
    "    group_assigment_selected = 0\n",
    "    submission_status = ['late', 'on time']\n",
    "    if no_assigments_group>1:\n",
    "        for i in range(no_assigments_group):\n",
    "            weight = random.randint(0,100)\n",
    "            submission_status_selected =random.choice(submission_status)\n",
    "            if submission_status_selected == 'on time':\n",
    "                panctuality_arry.append(1)\n",
    "            group_assigment_rry.append(weight)\n",
    "        group_assigment_selected = sum(group_assigment_rry)/no_assigments_group\n",
    "\n",
    "    no_assigments_individual = random.randint(0,10)\n",
    "    individual_assigment_rry = []\n",
    "    weight_arr = []\n",
    "    individual_assigment_selected = 0\n",
    "    if no_assigments_individual>1:\n",
    "        for i in range(no_assigments_individual):\n",
    "            weight = random.randint(0,100)\n",
    "            weight_arr.append(weight)\n",
    "            individual_assigment_rry.append(weight)\n",
    "            submission_status_selected =random.choice(submission_status)\n",
    "            if submission_status_selected == 'on time':\n",
    "                panctuality_arry.append(1)\n",
    "        individual_assigment = sum(individual_assigment_rry)/(no_assigments_individual*sum(weight_arr)/len(weight_arr))\n",
    "        \n",
    "        individual_assigment_selected =individual_assigment\n",
    "    panctuality_selected = (sum(panctuality_arry)/(no_assigments_group + no_assigments_individual))*100\n",
    "    student_details['subject'].append(subject_selected)\n",
    "    student_details['exam_type'].append(exam_type_selected)\n",
    "    student_details['exam_type_markers'].append(exam_type_markers_selected)\n",
    "    student_details['class'].append(student_class_selected)\n",
    "    student_details['hours_of_studying'].append(hours_of_studying_selected)\n",
    "    student_details['participation_in_group'].append(participation_in_group_selected)\n",
    "    student_details['group_parlagrims'].append(group_parlagrims_selected)\n",
    "    student_details['individual_paralligms'].append(individual_parlagrims_selected)\n",
    "    student_details['assigments_individual'].append(group_assigment_selected)\n",
    "    student_details['assigments_group'].append(group_assigment_selected)\n",
    "    student_details['panctuality'].append(panctuality_selected)\n",
    "    student_details['previous_marks'].append(previous_marks_selected)\n",
    "    \n",
    "    Predicted_Marks_selected = exam_type.index(exam_type_selected)*0.05 + (6-student_class_selected)*0.15 + hours_of_studying_selected*0.15 + participation_in_group_selected*0.15 - group_parlagrims_selected*0.2 -individual_parlagrims_selected*0.2 + previous_marks_selected*0.2 +panctuality_selected*0.15\n",
    "    if Predicted_Marks_selected >99:\n",
    "        Predicted_Marks_selected = random.randint(90,99)\n",
    "    student_details['Predicted Marks'].append(int(Predicted_Marks_selected))\n",
    "        "
   ]
  },
  {
   "cell_type": "code",
   "execution_count": null,
   "metadata": {},
   "outputs": [],
   "source": [
    "data = pd.DataFrame(student_details)\n",
    "data.head()"
   ]
  },
  {
   "cell_type": "code",
   "execution_count": null,
   "metadata": {},
   "outputs": [],
   "source": [
    "data.to_csv('student marks.csv')"
   ]
  },
  {
   "cell_type": "code",
   "execution_count": null,
   "metadata": {},
   "outputs": [],
   "source": [
    "class_mapping = {value:index for index, value in enumerate(data['subject'].unique())}\n",
    "class_mapping\n",
    "{'Neutrition': 0, 'Commerce': 1, 'Computer,': 2, 'Civics': 3, 'Physics': 4, 'History': 5, 'Agriculture': 6, 'Basic Mathematics': 7, 'Franch': 8, 'Kiswahili': 9, 'Bilogy': 10, 'Chemistry': 11, 'Geography': 12, 'Advance Mathematics': 13, 'English Language': 14, 'Economics': 15}"
   ]
  },
  {
   "cell_type": "code",
   "execution_count": null,
   "metadata": {},
   "outputs": [],
   "source": [
    "class_mapping = {value:index for index, value in enumerate(data['subject'].unique())}\n",
    "data['subject']= data['subject'].map(class_mapping)\n",
    "class_mapping = {value:index for index, value in enumerate(data['exam_type'].unique())}\n",
    "data['exam_type']= data['exam_type'].map(class_mapping)\n",
    "class_mapping = {value:index for index, value in enumerate(data['exam_type'].unique())}\n",
    "data['exam_type']= data['exam_type'].map(class_mapping)"
   ]
  },
  {
   "cell_type": "code",
   "execution_count": null,
   "metadata": {},
   "outputs": [],
   "source": [
    "data.drop('exam_type_markers', axis=1, inplace=True)"
   ]
  },
  {
   "cell_type": "code",
   "execution_count": null,
   "metadata": {},
   "outputs": [],
   "source": [
    "data.isna().sum()"
   ]
  },
  {
   "cell_type": "code",
   "execution_count": null,
   "metadata": {},
   "outputs": [],
   "source": [
    "data.drop_duplicates(inplace=True)"
   ]
  },
  {
   "cell_type": "code",
   "execution_count": null,
   "metadata": {},
   "outputs": [],
   "source": [
    "data.corr()"
   ]
  },
  {
   "cell_type": "code",
   "execution_count": null,
   "metadata": {},
   "outputs": [],
   "source": [
    "x = data.iloc[:, :-1]\n",
    "y = data.iloc[:, -1]"
   ]
  },
  {
   "cell_type": "code",
   "execution_count": null,
   "metadata": {},
   "outputs": [],
   "source": [
    "x_train, x_test, y_train, y_test = train_test_split(x, y, test_size=0.2)"
   ]
  },
  {
   "cell_type": "code",
   "execution_count": null,
   "metadata": {},
   "outputs": [],
   "source": [
    "    tree = DecisionTreeRegressor()"
   ]
  },
  {
   "cell_type": "code",
   "execution_count": null,
   "metadata": {},
   "outputs": [],
   "source": [
    "tree.fit(x,y)"
   ]
  },
  {
   "cell_type": "code",
   "execution_count": null,
   "metadata": {},
   "outputs": [],
   "source": [
    "dictt = pd.DataFrame(tree.feature_importances_)"
   ]
  },
  {
   "cell_type": "code",
   "execution_count": null,
   "metadata": {},
   "outputs": [],
   "source": [
    "dictt.index = x.columns"
   ]
  },
  {
   "cell_type": "code",
   "execution_count": null,
   "metadata": {},
   "outputs": [],
   "source": [
    "\n",
    "dictt.plot.barh()"
   ]
  },
  {
   "cell_type": "code",
   "execution_count": null,
   "metadata": {},
   "outputs": [],
   "source": [
    "tree.fit(x_train, y_train)"
   ]
  },
  {
   "cell_type": "code",
   "execution_count": null,
   "metadata": {},
   "outputs": [],
   "source": [
    "y_predicted = tree.predict(x_test)"
   ]
  },
  {
   "cell_type": "code",
   "execution_count": null,
   "metadata": {},
   "outputs": [],
   "source": [
    "mean_squared_error(y_true=y_test, y_pred=y_predicted)"
   ]
  },
  {
   "cell_type": "code",
   "execution_count": null,
   "metadata": {},
   "outputs": [],
   "source": [
    "mean_absolute_error(y_true=y_test, y_pred=y_predicted)"
   ]
  },
  {
   "cell_type": "code",
   "execution_count": null,
   "metadata": {},
   "outputs": [],
   "source": [
    "joblib.dump(tree, open('studentmarks.pkl', 'wb'))"
   ]
  },
  {
   "cell_type": "code",
   "execution_count": null,
   "metadata": {},
   "outputs": [],
   "source": [
    "loaded_moddel = joblib.load(open('studentmarks.pkl', 'rb'))"
   ]
  },
  {
   "cell_type": "code",
   "execution_count": null,
   "metadata": {},
   "outputs": [],
   "source": [
    "loaded_moddel.predict(x_test)"
   ]
  },
  {
   "cell_type": "code",
   "execution_count": null,
   "metadata": {},
   "outputs": [],
   "source": [
    "len(x_train.columns)"
   ]
  },
  {
   "cell_type": "code",
   "execution_count": null,
   "metadata": {},
   "outputs": [],
   "source": [
    "import string"
   ]
  },
  {
   "cell_type": "code",
   "execution_count": null,
   "metadata": {},
   "outputs": [],
   "source": [
    "for index, value in enumerate(string.punctuation):\n",
    "    print('index no : ', index, 'value: ', value)"
   ]
  },
  {
   "cell_type": "code",
   "execution_count": null,
   "metadata": {},
   "outputs": [],
   "source": []
  },
  {
   "cell_type": "code",
   "execution_count": null,
   "metadata": {},
   "outputs": [],
   "source": []
  }
 ],
 "metadata": {
  "kernelspec": {
   "display_name": "Python 3",
   "language": "python",
   "name": "python3"
  },
  "language_info": {
   "codemirror_mode": {
    "name": "ipython",
    "version": 3
   },
   "file_extension": ".py",
   "mimetype": "text/x-python",
   "name": "python",
   "nbconvert_exporter": "python",
   "pygments_lexer": "ipython3",
   "version": "3.8.5"
  }
 },
 "nbformat": 4,
 "nbformat_minor": 2
}
