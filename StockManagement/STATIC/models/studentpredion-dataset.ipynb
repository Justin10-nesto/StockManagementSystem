{
 "cells": [
  {
   "cell_type": "code",
   "execution_count": 34,
   "metadata": {},
   "outputs": [],
   "source": [
    "import numpy as np\n",
    "import pandas as pd\n",
    "import random\n",
    "from sklearn.tree import DecisionTreeRegressor\n",
    "from sklearn.model_selection import  train_test_split\n",
    "from sklearn.metrics import  mean_squared_error, mean_absolute_error\n",
    "import joblib"
   ]
  },
  {
   "cell_type": "code",
   "execution_count": 35,
   "metadata": {},
   "outputs": [],
   "source": [
    "all_subjects = ['Civics', 'Basic Mathematics', 'History', 'Geography', 'Kiswahili', 'English Language',  'Chemistry', 'Bilogy', 'Physics', 'Agriculture', 'Franch', 'Neutrition', 'Commerce', 'Computer,', 'Economics', 'Advance Mathematics', '--']\n",
    "exam_type_markers= ['internal', 'external']\n",
    "exam_type = ['mid-term', 'terminal', 'Annual', 'Mock', 'Final']\n",
    "student_class = [1,2,3,4,5,6]"
   ]
  },
  {
   "cell_type": "code",
   "execution_count": 36,
   "metadata": {},
   "outputs": [],
   "source": [
    "student_details = {'subject':[], 'exam_type':[], 'exam_type_markers':[], 'class':[],\n",
    " 'hours_of_studying':[], 'participation_in_group':[], 'group_parlagrims':[],\n",
    "  'individual_paralligms':[], 'assigments_individual':[], 'assigments_group':[],\n",
    " 'previous_marks':[], 'panctuality':[], 'Predicted Marks':[]}"
   ]
  },
  {
   "cell_type": "code",
   "execution_count": 37,
   "metadata": {},
   "outputs": [],
   "source": [
    "for i in range(0, 10000):\n",
    "    subject_selected = random.choice(all_subjects)\n",
    "    exam_type_selected = random.choice(exam_type)\n",
    "    exam_type_markers_selected = random.choice(exam_type_markers)\n",
    "    student_class_selected = random.choice(student_class)\n",
    "    if student_class_selected%2 == 1:\n",
    "        exam_type_index = random.randint(0,2)\n",
    "        exam_type_selected = exam_type[exam_type_index]\n",
    "        exam_type_markers = 'internal'\n",
    "    previous_marks_selected = random.randint(0,100)\n",
    "    no_days = random.randint(30, (6*365)+1)\n",
    "    studying_time_day = random.randint(0,no_days)\n",
    "\n",
    "    hours_of_studying_selected = (studying_time_day/no_days)*100\n",
    "    total_tasks = random.randint(1,10)\n",
    "    tasks_done = random.randint(0,total_tasks)\n",
    "    \n",
    "    participation_in_group_selected = (tasks_done/total_tasks) *100\n",
    "    no_assigments_group = random.randint(1,10)\n",
    "    group_parlagrims_rry = []\n",
    "    group_parlagrims_selected = 0\n",
    "    if no_assigments_group>1:\n",
    "        for i in range(no_assigments_group):\n",
    "            palarism = random.randint(0,100)\n",
    "            group_parlagrims_rry.append(palarism)\n",
    "        group_parlagrims_selected = sum(group_parlagrims_rry)/no_assigments_group\n",
    "\n",
    "    no_assigments_individual = random.randint(1,10)\n",
    "    individual_parlagrims_rry = []\n",
    "    individual_parlagrims_selected = 0\n",
    "    if no_assigments_individual>1:\n",
    "        for i in range(no_assigments_individual):\n",
    "            palarism = random.randint(0,100)\n",
    "            individual_parlagrims_rry.append(palarism)\n",
    "        individual_parlagrims_selected = sum(individual_parlagrims_rry)/no_assigments_individual\n",
    "    panctuality_arry = []\n",
    "    group_assigment_rry = []\n",
    "    group_assigment_selected = 0\n",
    "    submission_status = ['late', 'on time']\n",
    "    if no_assigments_group>1:\n",
    "        for i in range(no_assigments_group):\n",
    "            weight = random.randint(0,100)\n",
    "            submission_status_selected =random.choice(submission_status)\n",
    "            if submission_status_selected == 'on time':\n",
    "                panctuality_arry.append(1)\n",
    "            group_assigment_rry.append(weight)\n",
    "        group_assigment_selected = sum(group_assigment_rry)/no_assigments_group\n",
    "\n",
    "    no_assigments_individual = random.randint(0,10)\n",
    "    individual_assigment_rry = []\n",
    "    weight_arr = []\n",
    "    individual_assigment_selected = 0\n",
    "    if no_assigments_individual>1:\n",
    "        for i in range(no_assigments_individual):\n",
    "            weight = random.randint(0,100)\n",
    "            weight_arr.append(weight)\n",
    "            individual_assigment_rry.append(weight)\n",
    "            submission_status_selected =random.choice(submission_status)\n",
    "            if submission_status_selected == 'on time':\n",
    "                panctuality_arry.append(1)\n",
    "        individual_assigment = sum(individual_assigment_rry)/(no_assigments_individual*sum(weight_arr)/len(weight_arr))\n",
    "        \n",
    "        individual_assigment_selected =individual_assigment\n",
    "    panctuality_selected = (sum(panctuality_arry)/(no_assigments_group + no_assigments_individual))*100\n",
    "    student_details['subject'].append(subject_selected)\n",
    "    student_details['exam_type'].append(exam_type_selected)\n",
    "    student_details['exam_type_markers'].append(exam_type_markers_selected)\n",
    "    student_details['class'].append(student_class_selected)\n",
    "    student_details['hours_of_studying'].append(hours_of_studying_selected)\n",
    "    student_details['participation_in_group'].append(participation_in_group_selected)\n",
    "    student_details['group_parlagrims'].append(group_parlagrims_selected)\n",
    "    student_details['individual_paralligms'].append(individual_parlagrims_selected)\n",
    "    student_details['assigments_individual'].append(group_assigment_selected)\n",
    "    student_details['assigments_group'].append(group_assigment_selected)\n",
    "    student_details['panctuality'].append(panctuality_selected)\n",
    "    student_details['previous_marks'].append(previous_marks_selected)\n",
    "    \n",
    "    Predicted_Marks_selected = exam_type.index(exam_type_selected)*0.05 + (6-student_class_selected)*0.15 + hours_of_studying_selected*0.15 + participation_in_group_selected*0.15 - group_parlagrims_selected*0.2 -individual_parlagrims_selected*0.2 + previous_marks_selected*0.2 +panctuality_selected*0.15\n",
    "    if Predicted_Marks_selected >99:\n",
    "        Predicted_Marks_selected = random.randint(90,99)\n",
    "    student_details['Predicted Marks'].append(int(Predicted_Marks_selected))\n",
    "        "
   ]
  },
  {
   "cell_type": "code",
   "execution_count": 38,
   "metadata": {},
   "outputs": [
    {
     "data": {
      "text/html": [
       "<div>\n",
       "<style scoped>\n",
       "    .dataframe tbody tr th:only-of-type {\n",
       "        vertical-align: middle;\n",
       "    }\n",
       "\n",
       "    .dataframe tbody tr th {\n",
       "        vertical-align: top;\n",
       "    }\n",
       "\n",
       "    .dataframe thead th {\n",
       "        text-align: right;\n",
       "    }\n",
       "</style>\n",
       "<table border=\"1\" class=\"dataframe\">\n",
       "  <thead>\n",
       "    <tr style=\"text-align: right;\">\n",
       "      <th></th>\n",
       "      <th>subject</th>\n",
       "      <th>exam_type</th>\n",
       "      <th>exam_type_markers</th>\n",
       "      <th>class</th>\n",
       "      <th>hours_of_studying</th>\n",
       "      <th>participation_in_group</th>\n",
       "      <th>group_parlagrims</th>\n",
       "      <th>individual_paralligms</th>\n",
       "      <th>assigments_individual</th>\n",
       "      <th>assigments_group</th>\n",
       "      <th>previous_marks</th>\n",
       "      <th>panctuality</th>\n",
       "      <th>Predicted Marks</th>\n",
       "    </tr>\n",
       "  </thead>\n",
       "  <tbody>\n",
       "    <tr>\n",
       "      <th>0</th>\n",
       "      <td>Bilogy</td>\n",
       "      <td>mid-term</td>\n",
       "      <td>internal</td>\n",
       "      <td>1</td>\n",
       "      <td>37.500000</td>\n",
       "      <td>57.142857</td>\n",
       "      <td>33.333333</td>\n",
       "      <td>50.250000</td>\n",
       "      <td>51.444444</td>\n",
       "      <td>51.444444</td>\n",
       "      <td>21</td>\n",
       "      <td>72.222222</td>\n",
       "      <td>13</td>\n",
       "    </tr>\n",
       "    <tr>\n",
       "      <th>1</th>\n",
       "      <td>Computer,</td>\n",
       "      <td>Mock</td>\n",
       "      <td>e</td>\n",
       "      <td>6</td>\n",
       "      <td>69.427609</td>\n",
       "      <td>14.285714</td>\n",
       "      <td>0.000000</td>\n",
       "      <td>44.375000</td>\n",
       "      <td>0.000000</td>\n",
       "      <td>0.000000</td>\n",
       "      <td>12</td>\n",
       "      <td>20.000000</td>\n",
       "      <td>9</td>\n",
       "    </tr>\n",
       "    <tr>\n",
       "      <th>2</th>\n",
       "      <td>Chemistry</td>\n",
       "      <td>terminal</td>\n",
       "      <td>i</td>\n",
       "      <td>3</td>\n",
       "      <td>86.526123</td>\n",
       "      <td>0.000000</td>\n",
       "      <td>54.750000</td>\n",
       "      <td>50.000000</td>\n",
       "      <td>44.500000</td>\n",
       "      <td>44.500000</td>\n",
       "      <td>48</td>\n",
       "      <td>16.666667</td>\n",
       "      <td>4</td>\n",
       "    </tr>\n",
       "    <tr>\n",
       "      <th>3</th>\n",
       "      <td>History</td>\n",
       "      <td>Final</td>\n",
       "      <td>i</td>\n",
       "      <td>6</td>\n",
       "      <td>58.359621</td>\n",
       "      <td>20.000000</td>\n",
       "      <td>49.800000</td>\n",
       "      <td>72.333333</td>\n",
       "      <td>46.000000</td>\n",
       "      <td>46.000000</td>\n",
       "      <td>66</td>\n",
       "      <td>50.000000</td>\n",
       "      <td>8</td>\n",
       "    </tr>\n",
       "    <tr>\n",
       "      <th>4</th>\n",
       "      <td>Commerce</td>\n",
       "      <td>terminal</td>\n",
       "      <td>i</td>\n",
       "      <td>3</td>\n",
       "      <td>10.298742</td>\n",
       "      <td>28.571429</td>\n",
       "      <td>59.300000</td>\n",
       "      <td>45.666667</td>\n",
       "      <td>44.700000</td>\n",
       "      <td>44.700000</td>\n",
       "      <td>96</td>\n",
       "      <td>55.000000</td>\n",
       "      <td>12</td>\n",
       "    </tr>\n",
       "  </tbody>\n",
       "</table>\n",
       "</div>"
      ],
      "text/plain": [
       "     subject exam_type exam_type_markers  class  hours_of_studying  \\\n",
       "0     Bilogy  mid-term          internal      1          37.500000   \n",
       "1  Computer,      Mock                 e      6          69.427609   \n",
       "2  Chemistry  terminal                 i      3          86.526123   \n",
       "3    History     Final                 i      6          58.359621   \n",
       "4   Commerce  terminal                 i      3          10.298742   \n",
       "\n",
       "   participation_in_group  group_parlagrims  individual_paralligms  \\\n",
       "0               57.142857         33.333333              50.250000   \n",
       "1               14.285714          0.000000              44.375000   \n",
       "2                0.000000         54.750000              50.000000   \n",
       "3               20.000000         49.800000              72.333333   \n",
       "4               28.571429         59.300000              45.666667   \n",
       "\n",
       "   assigments_individual  assigments_group  previous_marks  panctuality  \\\n",
       "0              51.444444         51.444444              21    72.222222   \n",
       "1               0.000000          0.000000              12    20.000000   \n",
       "2              44.500000         44.500000              48    16.666667   \n",
       "3              46.000000         46.000000              66    50.000000   \n",
       "4              44.700000         44.700000              96    55.000000   \n",
       "\n",
       "   Predicted Marks  \n",
       "0               13  \n",
       "1                9  \n",
       "2                4  \n",
       "3                8  \n",
       "4               12  "
      ]
     },
     "execution_count": 38,
     "metadata": {},
     "output_type": "execute_result"
    }
   ],
   "source": [
    "data = pd.DataFrame(student_details)\n",
    "data.head()"
   ]
  },
  {
   "cell_type": "code",
   "execution_count": 39,
   "metadata": {},
   "outputs": [
    {
     "data": {
      "text/plain": [
       "{'Neutrition': 0,\n",
       " 'Commerce': 1,\n",
       " 'Computer,': 2,\n",
       " 'Civics': 3,\n",
       " 'Physics': 4,\n",
       " 'History': 5,\n",
       " 'Agriculture': 6,\n",
       " 'Basic Mathematics': 7,\n",
       " 'Franch': 8,\n",
       " 'Kiswahili': 9,\n",
       " 'Bilogy': 10,\n",
       " 'Chemistry': 11,\n",
       " 'Geography': 12,\n",
       " 'Advance Mathematics': 13,\n",
       " 'English Language': 14,\n",
       " 'Economics': 15}"
      ]
     },
     "execution_count": 39,
     "metadata": {},
     "output_type": "execute_result"
    }
   ],
   "source": [
    "class_mapping = {value:index for index, value in enumerate(data['subject'].unique())}\n",
    "class_mapping\n",
    "{'Neutrition': 0, 'Commerce': 1, 'Computer,': 2, 'Civics': 3, 'Physics': 4, 'History': 5, 'Agriculture': 6, 'Basic Mathematics': 7, 'Franch': 8, 'Kiswahili': 9, 'Bilogy': 10, 'Chemistry': 11, 'Geography': 12, 'Advance Mathematics': 13, 'English Language': 14, 'Economics': 15}"
   ]
  },
  {
   "cell_type": "code",
   "execution_count": 40,
   "metadata": {},
   "outputs": [],
   "source": [
    "class_mapping = {value:index for index, value in enumerate(data['subject'].unique())}\n",
    "data['subject']= data['subject'].map(class_mapping)\n",
    "class_mapping = {value:index for index, value in enumerate(data['exam_type'].unique())}\n",
    "data['exam_type']= data['exam_type'].map(class_mapping)\n",
    "class_mapping = {value:index for index, value in enumerate(data['exam_type'].unique())}\n",
    "data['exam_type']= data['exam_type'].map(class_mapping)"
   ]
  },
  {
   "cell_type": "code",
   "execution_count": 41,
   "metadata": {},
   "outputs": [],
   "source": [
    "data.drop('exam_type_markers', axis=1, inplace=True)"
   ]
  },
  {
   "cell_type": "code",
   "execution_count": 42,
   "metadata": {},
   "outputs": [
    {
     "data": {
      "text/plain": [
       "subject                   0\n",
       "exam_type                 0\n",
       "class                     0\n",
       "hours_of_studying         0\n",
       "participation_in_group    0\n",
       "group_parlagrims          0\n",
       "individual_paralligms     0\n",
       "assigments_individual     0\n",
       "assigments_group          0\n",
       "previous_marks            0\n",
       "panctuality               0\n",
       "Predicted Marks           0\n",
       "dtype: int64"
      ]
     },
     "execution_count": 42,
     "metadata": {},
     "output_type": "execute_result"
    }
   ],
   "source": [
    "data.isna().sum()"
   ]
  },
  {
   "cell_type": "code",
   "execution_count": 43,
   "metadata": {},
   "outputs": [],
   "source": [
    "data.drop_duplicates(inplace=True)"
   ]
  },
  {
   "cell_type": "code",
   "execution_count": 44,
   "metadata": {},
   "outputs": [
    {
     "data": {
      "text/html": [
       "<div>\n",
       "<style scoped>\n",
       "    .dataframe tbody tr th:only-of-type {\n",
       "        vertical-align: middle;\n",
       "    }\n",
       "\n",
       "    .dataframe tbody tr th {\n",
       "        vertical-align: top;\n",
       "    }\n",
       "\n",
       "    .dataframe thead th {\n",
       "        text-align: right;\n",
       "    }\n",
       "</style>\n",
       "<table border=\"1\" class=\"dataframe\">\n",
       "  <thead>\n",
       "    <tr style=\"text-align: right;\">\n",
       "      <th></th>\n",
       "      <th>subject</th>\n",
       "      <th>exam_type</th>\n",
       "      <th>class</th>\n",
       "      <th>hours_of_studying</th>\n",
       "      <th>participation_in_group</th>\n",
       "      <th>group_parlagrims</th>\n",
       "      <th>individual_paralligms</th>\n",
       "      <th>assigments_individual</th>\n",
       "      <th>assigments_group</th>\n",
       "      <th>previous_marks</th>\n",
       "      <th>panctuality</th>\n",
       "      <th>Predicted Marks</th>\n",
       "    </tr>\n",
       "  </thead>\n",
       "  <tbody>\n",
       "    <tr>\n",
       "      <th>subject</th>\n",
       "      <td>1.000000</td>\n",
       "      <td>-0.017181</td>\n",
       "      <td>-0.007989</td>\n",
       "      <td>-0.013489</td>\n",
       "      <td>-0.020341</td>\n",
       "      <td>0.010577</td>\n",
       "      <td>-0.007714</td>\n",
       "      <td>0.000697</td>\n",
       "      <td>0.000697</td>\n",
       "      <td>0.011374</td>\n",
       "      <td>0.000468</td>\n",
       "      <td>-0.010477</td>\n",
       "    </tr>\n",
       "    <tr>\n",
       "      <th>exam_type</th>\n",
       "      <td>-0.017181</td>\n",
       "      <td>1.000000</td>\n",
       "      <td>0.025774</td>\n",
       "      <td>-0.006876</td>\n",
       "      <td>0.005254</td>\n",
       "      <td>0.003531</td>\n",
       "      <td>-0.003600</td>\n",
       "      <td>0.015235</td>\n",
       "      <td>0.015235</td>\n",
       "      <td>0.014441</td>\n",
       "      <td>0.014497</td>\n",
       "      <td>0.014225</td>\n",
       "    </tr>\n",
       "    <tr>\n",
       "      <th>class</th>\n",
       "      <td>-0.007989</td>\n",
       "      <td>0.025774</td>\n",
       "      <td>1.000000</td>\n",
       "      <td>-0.009278</td>\n",
       "      <td>-0.005152</td>\n",
       "      <td>-0.003138</td>\n",
       "      <td>-0.011753</td>\n",
       "      <td>-0.009632</td>\n",
       "      <td>-0.009632</td>\n",
       "      <td>-0.014963</td>\n",
       "      <td>0.005140</td>\n",
       "      <td>-0.030834</td>\n",
       "    </tr>\n",
       "    <tr>\n",
       "      <th>hours_of_studying</th>\n",
       "      <td>-0.013489</td>\n",
       "      <td>-0.006876</td>\n",
       "      <td>-0.009278</td>\n",
       "      <td>1.000000</td>\n",
       "      <td>-0.025188</td>\n",
       "      <td>-0.001085</td>\n",
       "      <td>-0.018285</td>\n",
       "      <td>-0.002676</td>\n",
       "      <td>-0.002676</td>\n",
       "      <td>-0.004868</td>\n",
       "      <td>-0.003513</td>\n",
       "      <td>0.394438</td>\n",
       "    </tr>\n",
       "    <tr>\n",
       "      <th>participation_in_group</th>\n",
       "      <td>-0.020341</td>\n",
       "      <td>0.005254</td>\n",
       "      <td>-0.005152</td>\n",
       "      <td>-0.025188</td>\n",
       "      <td>1.000000</td>\n",
       "      <td>0.003558</td>\n",
       "      <td>0.007346</td>\n",
       "      <td>0.012412</td>\n",
       "      <td>0.012412</td>\n",
       "      <td>-0.010979</td>\n",
       "      <td>-0.005027</td>\n",
       "      <td>0.488662</td>\n",
       "    </tr>\n",
       "    <tr>\n",
       "      <th>group_parlagrims</th>\n",
       "      <td>0.010577</td>\n",
       "      <td>0.003531</td>\n",
       "      <td>-0.003138</td>\n",
       "      <td>-0.001085</td>\n",
       "      <td>0.003558</td>\n",
       "      <td>1.000000</td>\n",
       "      <td>-0.006546</td>\n",
       "      <td>0.574800</td>\n",
       "      <td>0.574800</td>\n",
       "      <td>0.013527</td>\n",
       "      <td>0.187162</td>\n",
       "      <td>-0.311260</td>\n",
       "    </tr>\n",
       "    <tr>\n",
       "      <th>individual_paralligms</th>\n",
       "      <td>-0.007714</td>\n",
       "      <td>-0.003600</td>\n",
       "      <td>-0.011753</td>\n",
       "      <td>-0.018285</td>\n",
       "      <td>0.007346</td>\n",
       "      <td>-0.006546</td>\n",
       "      <td>1.000000</td>\n",
       "      <td>-0.000895</td>\n",
       "      <td>-0.000895</td>\n",
       "      <td>-0.003587</td>\n",
       "      <td>-0.001091</td>\n",
       "      <td>-0.375764</td>\n",
       "    </tr>\n",
       "    <tr>\n",
       "      <th>assigments_individual</th>\n",
       "      <td>0.000697</td>\n",
       "      <td>0.015235</td>\n",
       "      <td>-0.009632</td>\n",
       "      <td>-0.002676</td>\n",
       "      <td>0.012412</td>\n",
       "      <td>0.574800</td>\n",
       "      <td>-0.000895</td>\n",
       "      <td>1.000000</td>\n",
       "      <td>1.000000</td>\n",
       "      <td>0.008197</td>\n",
       "      <td>0.184587</td>\n",
       "      <td>-0.156219</td>\n",
       "    </tr>\n",
       "    <tr>\n",
       "      <th>assigments_group</th>\n",
       "      <td>0.000697</td>\n",
       "      <td>0.015235</td>\n",
       "      <td>-0.009632</td>\n",
       "      <td>-0.002676</td>\n",
       "      <td>0.012412</td>\n",
       "      <td>0.574800</td>\n",
       "      <td>-0.000895</td>\n",
       "      <td>1.000000</td>\n",
       "      <td>1.000000</td>\n",
       "      <td>0.008197</td>\n",
       "      <td>0.184587</td>\n",
       "      <td>-0.156219</td>\n",
       "    </tr>\n",
       "    <tr>\n",
       "      <th>previous_marks</th>\n",
       "      <td>0.011374</td>\n",
       "      <td>0.014441</td>\n",
       "      <td>-0.014963</td>\n",
       "      <td>-0.004868</td>\n",
       "      <td>-0.010979</td>\n",
       "      <td>0.013527</td>\n",
       "      <td>-0.003587</td>\n",
       "      <td>0.008197</td>\n",
       "      <td>0.008197</td>\n",
       "      <td>1.000000</td>\n",
       "      <td>0.007117</td>\n",
       "      <td>0.531952</td>\n",
       "    </tr>\n",
       "    <tr>\n",
       "      <th>panctuality</th>\n",
       "      <td>0.000468</td>\n",
       "      <td>0.014497</td>\n",
       "      <td>0.005140</td>\n",
       "      <td>-0.003513</td>\n",
       "      <td>-0.005027</td>\n",
       "      <td>0.187162</td>\n",
       "      <td>-0.001091</td>\n",
       "      <td>0.184587</td>\n",
       "      <td>0.184587</td>\n",
       "      <td>0.007117</td>\n",
       "      <td>1.000000</td>\n",
       "      <td>0.184427</td>\n",
       "    </tr>\n",
       "    <tr>\n",
       "      <th>Predicted Marks</th>\n",
       "      <td>-0.010477</td>\n",
       "      <td>0.014225</td>\n",
       "      <td>-0.030834</td>\n",
       "      <td>0.394438</td>\n",
       "      <td>0.488662</td>\n",
       "      <td>-0.311260</td>\n",
       "      <td>-0.375764</td>\n",
       "      <td>-0.156219</td>\n",
       "      <td>-0.156219</td>\n",
       "      <td>0.531952</td>\n",
       "      <td>0.184427</td>\n",
       "      <td>1.000000</td>\n",
       "    </tr>\n",
       "  </tbody>\n",
       "</table>\n",
       "</div>"
      ],
      "text/plain": [
       "                         subject  exam_type     class  hours_of_studying  \\\n",
       "subject                 1.000000  -0.017181 -0.007989          -0.013489   \n",
       "exam_type              -0.017181   1.000000  0.025774          -0.006876   \n",
       "class                  -0.007989   0.025774  1.000000          -0.009278   \n",
       "hours_of_studying      -0.013489  -0.006876 -0.009278           1.000000   \n",
       "participation_in_group -0.020341   0.005254 -0.005152          -0.025188   \n",
       "group_parlagrims        0.010577   0.003531 -0.003138          -0.001085   \n",
       "individual_paralligms  -0.007714  -0.003600 -0.011753          -0.018285   \n",
       "assigments_individual   0.000697   0.015235 -0.009632          -0.002676   \n",
       "assigments_group        0.000697   0.015235 -0.009632          -0.002676   \n",
       "previous_marks          0.011374   0.014441 -0.014963          -0.004868   \n",
       "panctuality             0.000468   0.014497  0.005140          -0.003513   \n",
       "Predicted Marks        -0.010477   0.014225 -0.030834           0.394438   \n",
       "\n",
       "                        participation_in_group  group_parlagrims  \\\n",
       "subject                              -0.020341          0.010577   \n",
       "exam_type                             0.005254          0.003531   \n",
       "class                                -0.005152         -0.003138   \n",
       "hours_of_studying                    -0.025188         -0.001085   \n",
       "participation_in_group                1.000000          0.003558   \n",
       "group_parlagrims                      0.003558          1.000000   \n",
       "individual_paralligms                 0.007346         -0.006546   \n",
       "assigments_individual                 0.012412          0.574800   \n",
       "assigments_group                      0.012412          0.574800   \n",
       "previous_marks                       -0.010979          0.013527   \n",
       "panctuality                          -0.005027          0.187162   \n",
       "Predicted Marks                       0.488662         -0.311260   \n",
       "\n",
       "                        individual_paralligms  assigments_individual  \\\n",
       "subject                             -0.007714               0.000697   \n",
       "exam_type                           -0.003600               0.015235   \n",
       "class                               -0.011753              -0.009632   \n",
       "hours_of_studying                   -0.018285              -0.002676   \n",
       "participation_in_group               0.007346               0.012412   \n",
       "group_parlagrims                    -0.006546               0.574800   \n",
       "individual_paralligms                1.000000              -0.000895   \n",
       "assigments_individual               -0.000895               1.000000   \n",
       "assigments_group                    -0.000895               1.000000   \n",
       "previous_marks                      -0.003587               0.008197   \n",
       "panctuality                         -0.001091               0.184587   \n",
       "Predicted Marks                     -0.375764              -0.156219   \n",
       "\n",
       "                        assigments_group  previous_marks  panctuality  \\\n",
       "subject                         0.000697        0.011374     0.000468   \n",
       "exam_type                       0.015235        0.014441     0.014497   \n",
       "class                          -0.009632       -0.014963     0.005140   \n",
       "hours_of_studying              -0.002676       -0.004868    -0.003513   \n",
       "participation_in_group          0.012412       -0.010979    -0.005027   \n",
       "group_parlagrims                0.574800        0.013527     0.187162   \n",
       "individual_paralligms          -0.000895       -0.003587    -0.001091   \n",
       "assigments_individual           1.000000        0.008197     0.184587   \n",
       "assigments_group                1.000000        0.008197     0.184587   \n",
       "previous_marks                  0.008197        1.000000     0.007117   \n",
       "panctuality                     0.184587        0.007117     1.000000   \n",
       "Predicted Marks                -0.156219        0.531952     0.184427   \n",
       "\n",
       "                        Predicted Marks  \n",
       "subject                       -0.010477  \n",
       "exam_type                      0.014225  \n",
       "class                         -0.030834  \n",
       "hours_of_studying              0.394438  \n",
       "participation_in_group         0.488662  \n",
       "group_parlagrims              -0.311260  \n",
       "individual_paralligms         -0.375764  \n",
       "assigments_individual         -0.156219  \n",
       "assigments_group              -0.156219  \n",
       "previous_marks                 0.531952  \n",
       "panctuality                    0.184427  \n",
       "Predicted Marks                1.000000  "
      ]
     },
     "execution_count": 44,
     "metadata": {},
     "output_type": "execute_result"
    }
   ],
   "source": [
    "data.corr()"
   ]
  },
  {
   "cell_type": "code",
   "execution_count": 45,
   "metadata": {},
   "outputs": [],
   "source": [
    "data.to_csv('student marks.csv', index=True)"
   ]
  },
  {
   "cell_type": "code",
   "execution_count": 46,
   "metadata": {},
   "outputs": [],
   "source": [
    "x = data.iloc[:, :-1]\n",
    "y = data.iloc[:, -1]"
   ]
  },
  {
   "cell_type": "code",
   "execution_count": 47,
   "metadata": {},
   "outputs": [],
   "source": [
    "x_train, x_test, y_train, y_test = train_test_split(x, y, test_size=0.2)"
   ]
  },
  {
   "cell_type": "code",
   "execution_count": 48,
   "metadata": {},
   "outputs": [],
   "source": [
    "tree = DecisionTreeRegressor()"
   ]
  },
  {
   "cell_type": "code",
   "execution_count": 49,
   "metadata": {},
   "outputs": [
    {
     "data": {
      "text/plain": [
       "DecisionTreeRegressor()"
      ]
     },
     "execution_count": 49,
     "metadata": {},
     "output_type": "execute_result"
    }
   ],
   "source": [
    "tree.fit(x,y)"
   ]
  },
  {
   "cell_type": "code",
   "execution_count": 50,
   "metadata": {},
   "outputs": [],
   "source": [
    "dictt = pd.DataFrame(tree.feature_importances_)"
   ]
  },
  {
   "cell_type": "code",
   "execution_count": 51,
   "metadata": {},
   "outputs": [],
   "source": [
    "dictt.index = x.columns"
   ]
  },
  {
   "cell_type": "code",
   "execution_count": 52,
   "metadata": {},
   "outputs": [
    {
     "data": {
      "text/plain": [
       "<AxesSubplot:>"
      ]
     },
     "execution_count": 52,
     "metadata": {},
     "output_type": "execute_result"
    },
    {
     "data": {
      "image/png": "[encoded data removed]",
      "text/plain": [
       "<Figure size 640x480 with 1 Axes>"
      ]
     },
     "metadata": {},
     "output_type": "display_data"
    }
   ],
   "source": [
    "\n",
    "dictt.plot.barh()"
   ]
  },
  {
   "cell_type": "code",
   "execution_count": 53,
   "metadata": {},
   "outputs": [
    {
     "data": {
      "text/plain": [
       "DecisionTreeRegressor()"
      ]
     },
     "execution_count": 53,
     "metadata": {},
     "output_type": "execute_result"
    }
   ],
   "source": [
    "tree.fit(x_train, y_train)"
   ]
  },
  {
   "cell_type": "code",
   "execution_count": 54,
   "metadata": {},
   "outputs": [],
   "source": [
    "y_predicted = tree.predict(x_test)"
   ]
  },
  {
   "cell_type": "code",
   "execution_count": 55,
   "metadata": {},
   "outputs": [
    {
     "data": {
      "text/plain": [
       "19.079"
      ]
     },
     "execution_count": 55,
     "metadata": {},
     "output_type": "execute_result"
    }
   ],
   "source": [
    "mean_squared_error(y_true=y_test, y_pred=y_predicted)"
   ]
  },
  {
   "cell_type": "code",
   "execution_count": 56,
   "metadata": {},
   "outputs": [
    {
     "data": {
      "text/plain": [
       "3.409"
      ]
     },
     "execution_count": 56,
     "metadata": {},
     "output_type": "execute_result"
    }
   ],
   "source": [
    "mean_absolute_error(y_true=y_test, y_pred=y_predicted)"
   ]
  },
  {
   "cell_type": "code",
   "execution_count": 57,
   "metadata": {},
   "outputs": [],
   "source": [
    "joblib.dump(tree, open('studentmarks.pkl', 'wb'))"
   ]
  },
  {
   "cell_type": "code",
   "execution_count": 58,
   "metadata": {},
   "outputs": [],
   "source": [
    "loaded_moddel = joblib.load(open('studentmarks.pkl', 'rb'))"
   ]
  },
  {
   "cell_type": "code",
   "execution_count": 59,
   "metadata": {},
   "outputs": [],
   "source": [
    "y_predicted = loaded_moddel.predict(x_test)"
   ]
  },
  {
   "cell_type": "code",
   "execution_count": 60,
   "metadata": {},
   "outputs": [
    {
     "data": {
      "text/plain": [
       "3.409"
      ]
     },
     "execution_count": 60,
     "metadata": {},
     "output_type": "execute_result"
    }
   ],
   "source": [
    "mean_absolute_error(y_test, y_predicted)"
   ]
  },
  {
   "cell_type": "code",
   "execution_count": 61,
   "metadata": {},
   "outputs": [],
   "source": [
    "import string"
   ]
  },
  {
   "cell_type": "code",
   "execution_count": 62,
   "metadata": {},
   "outputs": [
    {
     "name": "stdout",
     "output_type": "stream",
     "text": [
      "index no :  0 value:  !\n",
      "index no :  1 value:  \"\n",
      "index no :  2 value:  #\n",
      "index no :  3 value:  $\n",
      "index no :  4 value:  %\n",
      "index no :  5 value:  &\n",
      "index no :  6 value:  '\n",
      "index no :  7 value:  (\n",
      "index no :  8 value:  )\n",
      "index no :  9 value:  *\n",
      "index no :  10 value:  +\n",
      "index no :  11 value:  ,\n",
      "index no :  12 value:  -\n",
      "index no :  13 value:  .\n",
      "index no :  14 value:  /\n",
      "index no :  15 value:  :\n",
      "index no :  16 value:  ;\n",
      "index no :  17 value:  <\n",
      "index no :  18 value:  =\n",
      "index no :  19 value:  >\n",
      "index no :  20 value:  ?\n",
      "index no :  21 value:  @\n",
      "index no :  22 value:  [\n",
      "index no :  23 value:  \\\n",
      "index no :  24 value:  ]\n",
      "index no :  25 value:  ^\n",
      "index no :  26 value:  _\n",
      "index no :  27 value:  `\n",
      "index no :  28 value:  {\n",
      "index no :  29 value:  |\n",
      "index no :  30 value:  }\n",
      "index no :  31 value:  ~\n"
     ]
    }
   ],
   "source": [
    "for index, value in enumerate(string.punctuation):\n",
    "    print('index no : ', index, 'value: ', value)"
   ]
  },
  {
   "cell_type": "code",
   "execution_count": null,
   "metadata": {},
   "outputs": [],
   "source": []
  },
  {
   "cell_type": "code",
   "execution_count": null,
   "metadata": {},
   "outputs": [],
   "source": []
  }
 ],
 "metadata": {
  "kernelspec": {
   "display_name": "Python 3",
   "language": "python",
   "name": "python3"
  },
  "language_info": {
   "codemirror_mode": {
    "name": "ipython",
    "version": 3
   },
   "file_extension": ".py",
   "mimetype": "text/x-python",
   "name": "python",
   "nbconvert_exporter": "python",
   "pygments_lexer": "ipython3",
   "version": "3.8.5"
  }
 },
 "nbformat": 4,
 "nbformat_minor": 2
}
