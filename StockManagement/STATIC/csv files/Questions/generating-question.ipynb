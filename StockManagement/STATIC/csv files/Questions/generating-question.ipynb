{
 "cells": [
  {
   "cell_type": "code",
   "execution_count": 1,
   "metadata": {},
   "outputs": [],
   "source": [
    "import pandas as pd\n",
    "import numpy as np"
   ]
  },
  {
   "cell_type": "code",
   "execution_count": 2,
   "metadata": {},
   "outputs": [],
   "source": [
    "data = pd.read_csv('Qeuestions.csv')"
   ]
  },
  {
   "cell_type": "code",
   "execution_count": 3,
   "metadata": {},
   "outputs": [
    {
     "data": {
      "text/html": [
       "<div>\n",
       "<style scoped>\n",
       "    .dataframe tbody tr th:only-of-type {\n",
       "        vertical-align: middle;\n",
       "    }\n",
       "\n",
       "    .dataframe tbody tr th {\n",
       "        vertical-align: top;\n",
       "    }\n",
       "\n",
       "    .dataframe thead th {\n",
       "        text-align: right;\n",
       "    }\n",
       "</style>\n",
       "<table border=\"1\" class=\"dataframe\">\n",
       "  <thead>\n",
       "    <tr style=\"text-align: right;\">\n",
       "      <th></th>\n",
       "      <th>Subject</th>\n",
       "      <th>Class</th>\n",
       "      <th>Topic</th>\n",
       "      <th>Questions</th>\n",
       "    </tr>\n",
       "  </thead>\n",
       "  <tbody>\n",
       "    <tr>\n",
       "      <th>0</th>\n",
       "      <td>Chemistry</td>\n",
       "      <td>Form One</td>\n",
       "      <td>NTRODUCTION TO Chemistry</td>\n",
       "      <td>rainstorm the meaning of Chemistry</td>\n",
       "    </tr>\n",
       "    <tr>\n",
       "      <th>1</th>\n",
       "      <td>Chemistry</td>\n",
       "      <td>Form One</td>\n",
       "      <td>NTRODUCTION TO Chemistry</td>\n",
       "      <td>explain the concept of Chemistry</td>\n",
       "    </tr>\n",
       "    <tr>\n",
       "      <th>2</th>\n",
       "      <td>Chemistry</td>\n",
       "      <td>Form One</td>\n",
       "      <td>NTRODUCTION TO Chemistry</td>\n",
       "      <td>mention material and objects made by the appli...</td>\n",
       "    </tr>\n",
       "    <tr>\n",
       "      <th>3</th>\n",
       "      <td>Chemistry</td>\n",
       "      <td>Form One</td>\n",
       "      <td>NTRODUCTION TO Chemistry</td>\n",
       "      <td>mention areas where Chemistry is applied.</td>\n",
       "    </tr>\n",
       "    <tr>\n",
       "      <th>4</th>\n",
       "      <td>Chemistry</td>\n",
       "      <td>Form One</td>\n",
       "      <td>NTRODUCTION TO Chemistry</td>\n",
       "      <td>state the importance of Chemistry in daily life</td>\n",
       "    </tr>\n",
       "  </tbody>\n",
       "</table>\n",
       "</div>"
      ],
      "text/plain": [
       "     Subject     Class                     Topic  \\\n",
       "0  Chemistry  Form One  NTRODUCTION TO Chemistry   \n",
       "1  Chemistry  Form One  NTRODUCTION TO Chemistry   \n",
       "2  Chemistry  Form One  NTRODUCTION TO Chemistry   \n",
       "3  Chemistry  Form One  NTRODUCTION TO Chemistry   \n",
       "4  Chemistry  Form One  NTRODUCTION TO Chemistry   \n",
       "\n",
       "                                           Questions  \n",
       "0                 rainstorm the meaning of Chemistry  \n",
       "1                   explain the concept of Chemistry  \n",
       "2  mention material and objects made by the appli...  \n",
       "3          mention areas where Chemistry is applied.  \n",
       "4    state the importance of Chemistry in daily life  "
      ]
     },
     "execution_count": 3,
     "metadata": {},
     "output_type": "execute_result"
    }
   ],
   "source": [
    "data.head()"
   ]
  },
  {
   "cell_type": "code",
   "execution_count": 4,
   "metadata": {},
   "outputs": [],
   "source": [
    "data.dropna(inplace=True)"
   ]
  },
  {
   "cell_type": "code",
   "execution_count": 5,
   "metadata": {},
   "outputs": [
    {
     "data": {
      "text/html": [
       "<div>\n",
       "<style scoped>\n",
       "    .dataframe tbody tr th:only-of-type {\n",
       "        vertical-align: middle;\n",
       "    }\n",
       "\n",
       "    .dataframe tbody tr th {\n",
       "        vertical-align: top;\n",
       "    }\n",
       "\n",
       "    .dataframe thead th {\n",
       "        text-align: right;\n",
       "    }\n",
       "</style>\n",
       "<table border=\"1\" class=\"dataframe\">\n",
       "  <thead>\n",
       "    <tr style=\"text-align: right;\">\n",
       "      <th></th>\n",
       "      <th>Subject</th>\n",
       "      <th>Class</th>\n",
       "      <th>Topic</th>\n",
       "      <th>Questions</th>\n",
       "    </tr>\n",
       "  </thead>\n",
       "  <tbody>\n",
       "    <tr>\n",
       "      <th>0</th>\n",
       "      <td>Chemistry</td>\n",
       "      <td>Form One</td>\n",
       "      <td>NTRODUCTION TO Chemistry</td>\n",
       "      <td>rainstorm the meaning of Chemistry</td>\n",
       "    </tr>\n",
       "    <tr>\n",
       "      <th>1</th>\n",
       "      <td>Chemistry</td>\n",
       "      <td>Form One</td>\n",
       "      <td>NTRODUCTION TO Chemistry</td>\n",
       "      <td>explain the concept of Chemistry</td>\n",
       "    </tr>\n",
       "    <tr>\n",
       "      <th>2</th>\n",
       "      <td>Chemistry</td>\n",
       "      <td>Form One</td>\n",
       "      <td>NTRODUCTION TO Chemistry</td>\n",
       "      <td>mention material and objects made by the appli...</td>\n",
       "    </tr>\n",
       "    <tr>\n",
       "      <th>3</th>\n",
       "      <td>Chemistry</td>\n",
       "      <td>Form One</td>\n",
       "      <td>NTRODUCTION TO Chemistry</td>\n",
       "      <td>mention areas where Chemistry is applied.</td>\n",
       "    </tr>\n",
       "    <tr>\n",
       "      <th>4</th>\n",
       "      <td>Chemistry</td>\n",
       "      <td>Form One</td>\n",
       "      <td>NTRODUCTION TO Chemistry</td>\n",
       "      <td>state the importance of Chemistry in daily life</td>\n",
       "    </tr>\n",
       "  </tbody>\n",
       "</table>\n",
       "</div>"
      ],
      "text/plain": [
       "     Subject     Class                     Topic  \\\n",
       "0  Chemistry  Form One  NTRODUCTION TO Chemistry   \n",
       "1  Chemistry  Form One  NTRODUCTION TO Chemistry   \n",
       "2  Chemistry  Form One  NTRODUCTION TO Chemistry   \n",
       "3  Chemistry  Form One  NTRODUCTION TO Chemistry   \n",
       "4  Chemistry  Form One  NTRODUCTION TO Chemistry   \n",
       "\n",
       "                                           Questions  \n",
       "0                 rainstorm the meaning of Chemistry  \n",
       "1                   explain the concept of Chemistry  \n",
       "2  mention material and objects made by the appli...  \n",
       "3          mention areas where Chemistry is applied.  \n",
       "4    state the importance of Chemistry in daily life  "
      ]
     },
     "execution_count": 5,
     "metadata": {},
     "output_type": "execute_result"
    }
   ],
   "source": [
    "data.head()"
   ]
  },
  {
   "cell_type": "code",
   "execution_count": 6,
   "metadata": {},
   "outputs": [],
   "source": [
    "exam_format_id = []\n",
    "for qn in data['Questions']:\n",
    "    if 'explain the concept' in qn:\n",
    "        exam_format_id.append('Short Note')\n",
    "    elif 'mention' in qn:\n",
    "        exam_format_id.append('Short Answers')\n",
    "    else:\n",
    "        exam_format_id.append('Essay')\n"
   ]
  },
  {
   "cell_type": "code",
   "execution_count": 7,
   "metadata": {},
   "outputs": [],
   "source": [
    "data['category'] = exam_format_id"
   ]
  },
  {
   "cell_type": "code",
   "execution_count": 8,
   "metadata": {},
   "outputs": [
    {
     "data": {
      "text/html": [
       "<div>\n",
       "<style scoped>\n",
       "    .dataframe tbody tr th:only-of-type {\n",
       "        vertical-align: middle;\n",
       "    }\n",
       "\n",
       "    .dataframe tbody tr th {\n",
       "        vertical-align: top;\n",
       "    }\n",
       "\n",
       "    .dataframe thead th {\n",
       "        text-align: right;\n",
       "    }\n",
       "</style>\n",
       "<table border=\"1\" class=\"dataframe\">\n",
       "  <thead>\n",
       "    <tr style=\"text-align: right;\">\n",
       "      <th></th>\n",
       "      <th>Subject</th>\n",
       "      <th>Class</th>\n",
       "      <th>Topic</th>\n",
       "      <th>Questions</th>\n",
       "      <th>category</th>\n",
       "    </tr>\n",
       "  </thead>\n",
       "  <tbody>\n",
       "    <tr>\n",
       "      <th>0</th>\n",
       "      <td>Chemistry</td>\n",
       "      <td>Form One</td>\n",
       "      <td>NTRODUCTION TO Chemistry</td>\n",
       "      <td>rainstorm the meaning of Chemistry</td>\n",
       "      <td>Essay</td>\n",
       "    </tr>\n",
       "    <tr>\n",
       "      <th>1</th>\n",
       "      <td>Chemistry</td>\n",
       "      <td>Form One</td>\n",
       "      <td>NTRODUCTION TO Chemistry</td>\n",
       "      <td>explain the concept of Chemistry</td>\n",
       "      <td>Short Note</td>\n",
       "    </tr>\n",
       "    <tr>\n",
       "      <th>2</th>\n",
       "      <td>Chemistry</td>\n",
       "      <td>Form One</td>\n",
       "      <td>NTRODUCTION TO Chemistry</td>\n",
       "      <td>mention material and objects made by the appli...</td>\n",
       "      <td>Short Answers</td>\n",
       "    </tr>\n",
       "    <tr>\n",
       "      <th>3</th>\n",
       "      <td>Chemistry</td>\n",
       "      <td>Form One</td>\n",
       "      <td>NTRODUCTION TO Chemistry</td>\n",
       "      <td>mention areas where Chemistry is applied.</td>\n",
       "      <td>Short Answers</td>\n",
       "    </tr>\n",
       "    <tr>\n",
       "      <th>4</th>\n",
       "      <td>Chemistry</td>\n",
       "      <td>Form One</td>\n",
       "      <td>NTRODUCTION TO Chemistry</td>\n",
       "      <td>state the importance of Chemistry in daily life</td>\n",
       "      <td>Essay</td>\n",
       "    </tr>\n",
       "  </tbody>\n",
       "</table>\n",
       "</div>"
      ],
      "text/plain": [
       "     Subject     Class                     Topic  \\\n",
       "0  Chemistry  Form One  NTRODUCTION TO Chemistry   \n",
       "1  Chemistry  Form One  NTRODUCTION TO Chemistry   \n",
       "2  Chemistry  Form One  NTRODUCTION TO Chemistry   \n",
       "3  Chemistry  Form One  NTRODUCTION TO Chemistry   \n",
       "4  Chemistry  Form One  NTRODUCTION TO Chemistry   \n",
       "\n",
       "                                           Questions       category  \n",
       "0                 rainstorm the meaning of Chemistry          Essay  \n",
       "1                   explain the concept of Chemistry     Short Note  \n",
       "2  mention material and objects made by the appli...  Short Answers  \n",
       "3          mention areas where Chemistry is applied.  Short Answers  \n",
       "4    state the importance of Chemistry in daily life          Essay  "
      ]
     },
     "execution_count": 8,
     "metadata": {},
     "output_type": "execute_result"
    }
   ],
   "source": [
    "data.head()"
   ]
  },
  {
   "cell_type": "code",
   "execution_count": null,
   "metadata": {},
   "outputs": [],
   "source": []
  },
  {
   "cell_type": "code",
   "execution_count": 9,
   "metadata": {},
   "outputs": [
    {
     "data": {
      "text/plain": [
       "array(['Form One', 'Form Two', 'Form Three'], dtype=object)"
      ]
     },
     "execution_count": 9,
     "metadata": {},
     "output_type": "execute_result"
    }
   ],
   "source": [
    "data['Class'].unique()"
   ]
  },
  {
   "cell_type": "code",
   "execution_count": 10,
   "metadata": {},
   "outputs": [
    {
     "data": {
      "text/plain": [
       "array(['Chemistry'], dtype=object)"
      ]
     },
     "execution_count": 10,
     "metadata": {},
     "output_type": "execute_result"
    }
   ],
   "source": [
    "data['Subject'].unique()"
   ]
  },
  {
   "cell_type": "code",
   "execution_count": 11,
   "metadata": {},
   "outputs": [
    {
     "data": {
      "text/plain": [
       "array(['NTRODUCTION TO Chemistry', 'LABORATORY TECHNIQUES AND SAFETY',\n",
       "       'THE SCIENTIFIC PROCEDURE', 'MATTER', 'ELEMENTS AND COMPOUNDS',\n",
       "       'AIR COMBUSTION RUSTING AND FIRE FIGHTING', 'OXYGEN', 'HYDROGEN',\n",
       "       'WATER', 'FUELS AND ENERGY', 'ATOMIC STRUCTURE',\n",
       "       'PERIODIC CLASSIFICATION', 'FORMULA BONDING AND NOMENCLATURE',\n",
       "       'CHEMICAL EQUATIONS', 'HARDNESS OF WATER', 'ACIDS BASES AND SALTS',\n",
       "       'THE MOLE CONCEPT AND RELATED CALCULATIONS', 'VOLUMETRIC ANALYSIS',\n",
       "       'IONIC THEORY AND ELECTROLYSIS',\n",
       "       'CHEMICAL KINETICS EQUILIBRIUM AND ENERGETICS',\n",
       "       'COMPOUNDS OF METALS'], dtype=object)"
      ]
     },
     "execution_count": 11,
     "metadata": {},
     "output_type": "execute_result"
    }
   ],
   "source": [
    "data['Topic'].unique()"
   ]
  },
  {
   "cell_type": "code",
   "execution_count": 12,
   "metadata": {},
   "outputs": [
    {
     "data": {
      "text/plain": [
       "array(['Essay', 'Short Note', 'Short Answers'], dtype=object)"
      ]
     },
     "execution_count": 12,
     "metadata": {},
     "output_type": "execute_result"
    }
   ],
   "source": [
    "data['category'].unique()"
   ]
  },
  {
   "cell_type": "code",
   "execution_count": 13,
   "metadata": {},
   "outputs": [],
   "source": [
    "data['answers'] = ''"
   ]
  },
  {
   "cell_type": "code",
   "execution_count": 14,
   "metadata": {},
   "outputs": [],
   "source": [
    "currulumn = {'subject':[], 'class':[], 'topic':[]}\n",
    "student_class = data['Class'].unique()\n",
    "for stClass in student_class:\n",
    "    content_class = data [data['Class'] == stClass]\n",
    "    subjects = content_class['Subject'].unique()\n",
    "    for subject in subjects:\n",
    "        subject_content = data [data['Subject'] == subject]\n",
    "        topics = subject_content['Topic'].unique()\n",
    "        for topic in topics:\n",
    "            currulumn['subject'].append(subject)\n",
    "            currulumn['class'].append(stClass)\n",
    "            currulumn['topic'].append(topic)"
   ]
  },
  {
   "cell_type": "code",
   "execution_count": 15,
   "metadata": {},
   "outputs": [],
   "source": [
    "curiculumn_dataset = pd.DataFrame(currulumn)"
   ]
  },
  {
   "cell_type": "code",
   "execution_count": 16,
   "metadata": {},
   "outputs": [],
   "source": [
    "curiculumn_dataset.to_csv('currulumn.csv')"
   ]
  },
  {
   "cell_type": "code",
   "execution_count": 17,
   "metadata": {},
   "outputs": [
    {
     "data": {
      "text/html": [
       "<div>\n",
       "<style scoped>\n",
       "    .dataframe tbody tr th:only-of-type {\n",
       "        vertical-align: middle;\n",
       "    }\n",
       "\n",
       "    .dataframe tbody tr th {\n",
       "        vertical-align: top;\n",
       "    }\n",
       "\n",
       "    .dataframe thead th {\n",
       "        text-align: right;\n",
       "    }\n",
       "</style>\n",
       "<table border=\"1\" class=\"dataframe\">\n",
       "  <thead>\n",
       "    <tr style=\"text-align: right;\">\n",
       "      <th></th>\n",
       "      <th>subject</th>\n",
       "      <th>class</th>\n",
       "      <th>topic</th>\n",
       "    </tr>\n",
       "  </thead>\n",
       "  <tbody>\n",
       "    <tr>\n",
       "      <th>0</th>\n",
       "      <td>Chemistry</td>\n",
       "      <td>Form One</td>\n",
       "      <td>NTRODUCTION TO Chemistry</td>\n",
       "    </tr>\n",
       "    <tr>\n",
       "      <th>1</th>\n",
       "      <td>Chemistry</td>\n",
       "      <td>Form One</td>\n",
       "      <td>LABORATORY TECHNIQUES AND SAFETY</td>\n",
       "    </tr>\n",
       "    <tr>\n",
       "      <th>2</th>\n",
       "      <td>Chemistry</td>\n",
       "      <td>Form One</td>\n",
       "      <td>THE SCIENTIFIC PROCEDURE</td>\n",
       "    </tr>\n",
       "    <tr>\n",
       "      <th>3</th>\n",
       "      <td>Chemistry</td>\n",
       "      <td>Form One</td>\n",
       "      <td>MATTER</td>\n",
       "    </tr>\n",
       "    <tr>\n",
       "      <th>4</th>\n",
       "      <td>Chemistry</td>\n",
       "      <td>Form One</td>\n",
       "      <td>ELEMENTS AND COMPOUNDS</td>\n",
       "    </tr>\n",
       "    <tr>\n",
       "      <th>...</th>\n",
       "      <td>...</td>\n",
       "      <td>...</td>\n",
       "      <td>...</td>\n",
       "    </tr>\n",
       "    <tr>\n",
       "      <th>58</th>\n",
       "      <td>Chemistry</td>\n",
       "      <td>Form Three</td>\n",
       "      <td>THE MOLE CONCEPT AND RELATED CALCULATIONS</td>\n",
       "    </tr>\n",
       "    <tr>\n",
       "      <th>59</th>\n",
       "      <td>Chemistry</td>\n",
       "      <td>Form Three</td>\n",
       "      <td>VOLUMETRIC ANALYSIS</td>\n",
       "    </tr>\n",
       "    <tr>\n",
       "      <th>60</th>\n",
       "      <td>Chemistry</td>\n",
       "      <td>Form Three</td>\n",
       "      <td>IONIC THEORY AND ELECTROLYSIS</td>\n",
       "    </tr>\n",
       "    <tr>\n",
       "      <th>61</th>\n",
       "      <td>Chemistry</td>\n",
       "      <td>Form Three</td>\n",
       "      <td>CHEMICAL KINETICS EQUILIBRIUM AND ENERGETICS</td>\n",
       "    </tr>\n",
       "    <tr>\n",
       "      <th>62</th>\n",
       "      <td>Chemistry</td>\n",
       "      <td>Form Three</td>\n",
       "      <td>COMPOUNDS OF METALS</td>\n",
       "    </tr>\n",
       "  </tbody>\n",
       "</table>\n",
       "<p>63 rows × 3 columns</p>\n",
       "</div>"
      ],
      "text/plain": [
       "      subject       class                                         topic\n",
       "0   Chemistry    Form One                      NTRODUCTION TO Chemistry\n",
       "1   Chemistry    Form One              LABORATORY TECHNIQUES AND SAFETY\n",
       "2   Chemistry    Form One                      THE SCIENTIFIC PROCEDURE\n",
       "3   Chemistry    Form One                                        MATTER\n",
       "4   Chemistry    Form One                        ELEMENTS AND COMPOUNDS\n",
       "..        ...         ...                                           ...\n",
       "58  Chemistry  Form Three     THE MOLE CONCEPT AND RELATED CALCULATIONS\n",
       "59  Chemistry  Form Three                           VOLUMETRIC ANALYSIS\n",
       "60  Chemistry  Form Three                 IONIC THEORY AND ELECTROLYSIS\n",
       "61  Chemistry  Form Three  CHEMICAL KINETICS EQUILIBRIUM AND ENERGETICS\n",
       "62  Chemistry  Form Three                           COMPOUNDS OF METALS\n",
       "\n",
       "[63 rows x 3 columns]"
      ]
     },
     "execution_count": 17,
     "metadata": {},
     "output_type": "execute_result"
    }
   ],
   "source": [
    "curiculumn_dataset"
   ]
  },
  {
   "cell_type": "code",
   "execution_count": 18,
   "metadata": {},
   "outputs": [],
   "source": [
    "data.to_csv('../final_generatedQuestions.csv', index=False)"
   ]
  }
 ],
 "metadata": {
  "kernelspec": {
   "display_name": "base",
   "language": "python",
   "name": "python3"
  },
  "language_info": {
   "codemirror_mode": {
    "name": "ipython",
    "version": 3
   },
   "file_extension": ".py",
   "mimetype": "text/x-python",
   "name": "python",
   "nbconvert_exporter": "python",
   "pygments_lexer": "ipython3",
   "version": "3.8.5"
  },
  "orig_nbformat": 4
 },
 "nbformat": 4,
 "nbformat_minor": 2
}
