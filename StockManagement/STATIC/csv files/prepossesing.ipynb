{
 "cells": [
  {
   "cell_type": "code",
   "execution_count": 1,
   "metadata": {},
   "outputs": [],
   "source": [
    "import numpy as np\n",
    "import pandas as pd"
   ]
  },
  {
   "cell_type": "code",
   "execution_count": 2,
   "metadata": {},
   "outputs": [],
   "source": [
    "data = pd.read_csv('school.csv')"
   ]
  },
  {
   "cell_type": "code",
   "execution_count": 3,
   "metadata": {},
   "outputs": [
    {
     "data": {
      "text/html": [
       "<div>\n",
       "<style scoped>\n",
       "    .dataframe tbody tr th:only-of-type {\n",
       "        vertical-align: middle;\n",
       "    }\n",
       "\n",
       "    .dataframe tbody tr th {\n",
       "        vertical-align: top;\n",
       "    }\n",
       "\n",
       "    .dataframe thead th {\n",
       "        text-align: right;\n",
       "    }\n",
       "</style>\n",
       "<table border=\"1\" class=\"dataframe\">\n",
       "  <thead>\n",
       "    <tr style=\"text-align: right;\">\n",
       "      <th></th>\n",
       "      <th>Unnamed: 0</th>\n",
       "      <th>number</th>\n",
       "      <th>name</th>\n",
       "      <th>school_selected</th>\n",
       "      <th>course</th>\n",
       "      <th>type</th>\n",
       "      <th>location</th>\n",
       "    </tr>\n",
       "  </thead>\n",
       "  <tbody>\n",
       "    <tr>\n",
       "      <th>0</th>\n",
       "      <td>0</td>\n",
       "      <td>S0972.0004.2021</td>\n",
       "      <td>CHICHI DAUDI MALONGO</td>\n",
       "      <td>LONDONI SECONDARY SCHOOL</td>\n",
       "      <td>HGK</td>\n",
       "      <td>Boarding School</td>\n",
       "      <td>SONGEA MC - RUVUMA</td>\n",
       "    </tr>\n",
       "    <tr>\n",
       "      <th>1</th>\n",
       "      <td>1</td>\n",
       "      <td>S0972.0009.2021</td>\n",
       "      <td>ELICKA LEONARD EDWARD</td>\n",
       "      <td>KIBAKWE SECONDARY SCHOOL</td>\n",
       "      <td>HGK</td>\n",
       "      <td>Boarding School</td>\n",
       "      <td>MPWAPWA DC - DODOMA</td>\n",
       "    </tr>\n",
       "    <tr>\n",
       "      <th>2</th>\n",
       "      <td>2</td>\n",
       "      <td>S0972.0011.2021</td>\n",
       "      <td>ERICA CHARLES MALIMA</td>\n",
       "      <td>NATIONAL INSTITUTE OF TRANSPORT (NIT)</td>\n",
       "      <td>FREIGHT CLEARING AND FORWARDING</td>\n",
       "      <td>College</td>\n",
       "      <td>KINONDONI MC - DAR ES SALAAM</td>\n",
       "    </tr>\n",
       "    <tr>\n",
       "      <th>3</th>\n",
       "      <td>3</td>\n",
       "      <td>S0972.0030.2021</td>\n",
       "      <td>MARTHA YONA CHIDANHA</td>\n",
       "      <td>MATOMBO SECONDARY SCHOOL</td>\n",
       "      <td>HKL</td>\n",
       "      <td>Boarding School</td>\n",
       "      <td>MOROGORO DC - MOROGORO</td>\n",
       "    </tr>\n",
       "    <tr>\n",
       "      <th>4</th>\n",
       "      <td>4</td>\n",
       "      <td>S0972.0031.2021</td>\n",
       "      <td>MARY GEORGE MTOKAMBALI</td>\n",
       "      <td>NANGWANDA GIRLS' SECONDARY SCHOOL</td>\n",
       "      <td>HKL</td>\n",
       "      <td>Boarding School</td>\n",
       "      <td>NEWALA TC - MTWARA</td>\n",
       "    </tr>\n",
       "  </tbody>\n",
       "</table>\n",
       "</div>"
      ],
      "text/plain": [
       "   Unnamed: 0           number                     name  \\\n",
       "0           0  S0972.0004.2021    CHICHI DAUDI MALONGO    \n",
       "1           1  S0972.0009.2021   ELICKA LEONARD EDWARD    \n",
       "2           2  S0972.0011.2021    ERICA CHARLES MALIMA    \n",
       "3           3  S0972.0030.2021    MARTHA YONA CHIDANHA    \n",
       "4           4  S0972.0031.2021  MARY GEORGE MTOKAMBALI    \n",
       "\n",
       "                         school_selected                           course  \\\n",
       "0               LONDONI SECONDARY SCHOOL                              HGK   \n",
       "1               KIBAKWE SECONDARY SCHOOL                              HGK   \n",
       "2  NATIONAL INSTITUTE OF TRANSPORT (NIT)  FREIGHT CLEARING AND FORWARDING   \n",
       "3               MATOMBO SECONDARY SCHOOL                              HKL   \n",
       "4      NANGWANDA GIRLS' SECONDARY SCHOOL                              HKL   \n",
       "\n",
       "              type                      location  \n",
       "0  Boarding School            SONGEA MC - RUVUMA  \n",
       "1  Boarding School           MPWAPWA DC - DODOMA  \n",
       "2          College  KINONDONI MC - DAR ES SALAAM  \n",
       "3  Boarding School        MOROGORO DC - MOROGORO  \n",
       "4  Boarding School            NEWALA TC - MTWARA  "
      ]
     },
     "execution_count": 3,
     "metadata": {},
     "output_type": "execute_result"
    }
   ],
   "source": [
    "data.head()"
   ]
  },
  {
   "cell_type": "code",
   "execution_count": 4,
   "metadata": {},
   "outputs": [],
   "source": [
    "data = data[data['type'] != 'College']"
   ]
  },
  {
   "cell_type": "code",
   "execution_count": 5,
   "metadata": {},
   "outputs": [
    {
     "data": {
      "text/plain": [
       "array(['Boarding School', 'Teachers College', 'Technical', 'Day School',\n",
       "       'Special School', 'Health and Allied'], dtype=object)"
      ]
     },
     "execution_count": 5,
     "metadata": {},
     "output_type": "execute_result"
    }
   ],
   "source": [
    "data.type.unique()"
   ]
  },
  {
   "cell_type": "code",
   "execution_count": 6,
   "metadata": {},
   "outputs": [],
   "source": [
    "data = data[data['type'] != 'Health and Allied']"
   ]
  },
  {
   "cell_type": "code",
   "execution_count": 7,
   "metadata": {},
   "outputs": [],
   "source": [
    "data = data[data['type'] != 'Teachers College']"
   ]
  },
  {
   "cell_type": "code",
   "execution_count": 8,
   "metadata": {},
   "outputs": [],
   "source": [
    "data = data[data['type'] != 'Technical']"
   ]
  },
  {
   "cell_type": "code",
   "execution_count": 9,
   "metadata": {},
   "outputs": [
    {
     "data": {
      "text/html": [
       "<div>\n",
       "<style scoped>\n",
       "    .dataframe tbody tr th:only-of-type {\n",
       "        vertical-align: middle;\n",
       "    }\n",
       "\n",
       "    .dataframe tbody tr th {\n",
       "        vertical-align: top;\n",
       "    }\n",
       "\n",
       "    .dataframe thead th {\n",
       "        text-align: right;\n",
       "    }\n",
       "</style>\n",
       "<table border=\"1\" class=\"dataframe\">\n",
       "  <thead>\n",
       "    <tr style=\"text-align: right;\">\n",
       "      <th></th>\n",
       "      <th>Unnamed: 0</th>\n",
       "      <th>number</th>\n",
       "      <th>name</th>\n",
       "      <th>school_selected</th>\n",
       "      <th>course</th>\n",
       "      <th>type</th>\n",
       "      <th>location</th>\n",
       "    </tr>\n",
       "  </thead>\n",
       "  <tbody>\n",
       "    <tr>\n",
       "      <th>0</th>\n",
       "      <td>0</td>\n",
       "      <td>S0972.0004.2021</td>\n",
       "      <td>CHICHI DAUDI MALONGO</td>\n",
       "      <td>LONDONI SECONDARY SCHOOL</td>\n",
       "      <td>HGK</td>\n",
       "      <td>Boarding School</td>\n",
       "      <td>SONGEA MC - RUVUMA</td>\n",
       "    </tr>\n",
       "    <tr>\n",
       "      <th>1</th>\n",
       "      <td>1</td>\n",
       "      <td>S0972.0009.2021</td>\n",
       "      <td>ELICKA LEONARD EDWARD</td>\n",
       "      <td>KIBAKWE SECONDARY SCHOOL</td>\n",
       "      <td>HGK</td>\n",
       "      <td>Boarding School</td>\n",
       "      <td>MPWAPWA DC - DODOMA</td>\n",
       "    </tr>\n",
       "    <tr>\n",
       "      <th>3</th>\n",
       "      <td>3</td>\n",
       "      <td>S0972.0030.2021</td>\n",
       "      <td>MARTHA YONA CHIDANHA</td>\n",
       "      <td>MATOMBO SECONDARY SCHOOL</td>\n",
       "      <td>HKL</td>\n",
       "      <td>Boarding School</td>\n",
       "      <td>MOROGORO DC - MOROGORO</td>\n",
       "    </tr>\n",
       "    <tr>\n",
       "      <th>4</th>\n",
       "      <td>4</td>\n",
       "      <td>S0972.0031.2021</td>\n",
       "      <td>MARY GEORGE MTOKAMBALI</td>\n",
       "      <td>NANGWANDA GIRLS' SECONDARY SCHOOL</td>\n",
       "      <td>HKL</td>\n",
       "      <td>Boarding School</td>\n",
       "      <td>NEWALA TC - MTWARA</td>\n",
       "    </tr>\n",
       "    <tr>\n",
       "      <th>5</th>\n",
       "      <td>5</td>\n",
       "      <td>S0972.0032.2021</td>\n",
       "      <td>MERSE ATHANAS MRISHO</td>\n",
       "      <td>CHIUNGUTWA SECONDARY SCHOOL</td>\n",
       "      <td>HKL</td>\n",
       "      <td>Boarding School</td>\n",
       "      <td>MASASI DC - MTWARA</td>\n",
       "    </tr>\n",
       "    <tr>\n",
       "      <th>...</th>\n",
       "      <td>...</td>\n",
       "      <td>...</td>\n",
       "      <td>...</td>\n",
       "      <td>...</td>\n",
       "      <td>...</td>\n",
       "      <td>...</td>\n",
       "      <td>...</td>\n",
       "    </tr>\n",
       "    <tr>\n",
       "      <th>36308</th>\n",
       "      <td>13</td>\n",
       "      <td>S1408.0061.2021</td>\n",
       "      <td>SHABO BILIA SALES</td>\n",
       "      <td>NAWENGE SECONDARY SCHOOL</td>\n",
       "      <td>CBG</td>\n",
       "      <td>Boarding School</td>\n",
       "      <td>ULANGA DC - MOROGORO</td>\n",
       "    </tr>\n",
       "    <tr>\n",
       "      <th>36309</th>\n",
       "      <td>0</td>\n",
       "      <td>S2443.0001.2021</td>\n",
       "      <td>ANITHA LEONARD MDEMU</td>\n",
       "      <td>LUGOBA SECONDARY SCHOOL</td>\n",
       "      <td>PCM</td>\n",
       "      <td>Boarding School</td>\n",
       "      <td>CHALINZE DC - PWANI</td>\n",
       "    </tr>\n",
       "    <tr>\n",
       "      <th>36312</th>\n",
       "      <td>3</td>\n",
       "      <td>S2443.0026.2021</td>\n",
       "      <td>GEORGE EMMANUEL LUTUBIJA</td>\n",
       "      <td>KAHORORO SECONDARY SCHOOL</td>\n",
       "      <td>HKL</td>\n",
       "      <td>Boarding School</td>\n",
       "      <td>BUKOBA MC - KAGERA</td>\n",
       "    </tr>\n",
       "    <tr>\n",
       "      <th>36313</th>\n",
       "      <td>4</td>\n",
       "      <td>S2443.0032.2021</td>\n",
       "      <td>SAMWELI PETRO DENIS</td>\n",
       "      <td>IHUNGO SECONDARY SCHOOL</td>\n",
       "      <td>EGM</td>\n",
       "      <td>Boarding School</td>\n",
       "      <td>BUKOBA MC - KAGERA</td>\n",
       "    </tr>\n",
       "    <tr>\n",
       "      <th>36314</th>\n",
       "      <td>5</td>\n",
       "      <td>S2443.0033.2021</td>\n",
       "      <td>THOMAS ALEXANDER DAUD</td>\n",
       "      <td>MAWELEWELE SECONDARY SCHOOL</td>\n",
       "      <td>CBG</td>\n",
       "      <td>Boarding School</td>\n",
       "      <td>IRINGA MC - IRINGA</td>\n",
       "    </tr>\n",
       "  </tbody>\n",
       "</table>\n",
       "<p>22043 rows × 7 columns</p>\n",
       "</div>"
      ],
      "text/plain": [
       "       Unnamed: 0           number                       name  \\\n",
       "0               0  S0972.0004.2021      CHICHI DAUDI MALONGO    \n",
       "1               1  S0972.0009.2021     ELICKA LEONARD EDWARD    \n",
       "3               3  S0972.0030.2021      MARTHA YONA CHIDANHA    \n",
       "4               4  S0972.0031.2021    MARY GEORGE MTOKAMBALI    \n",
       "5               5  S0972.0032.2021      MERSE ATHANAS MRISHO    \n",
       "...           ...              ...                        ...   \n",
       "36308          13  S1408.0061.2021         SHABO BILIA SALES    \n",
       "36309           0  S2443.0001.2021      ANITHA LEONARD MDEMU    \n",
       "36312           3  S2443.0026.2021  GEORGE EMMANUEL LUTUBIJA    \n",
       "36313           4  S2443.0032.2021       SAMWELI PETRO DENIS    \n",
       "36314           5  S2443.0033.2021     THOMAS ALEXANDER DAUD    \n",
       "\n",
       "                         school_selected course             type  \\\n",
       "0               LONDONI SECONDARY SCHOOL    HGK  Boarding School   \n",
       "1               KIBAKWE SECONDARY SCHOOL    HGK  Boarding School   \n",
       "3               MATOMBO SECONDARY SCHOOL    HKL  Boarding School   \n",
       "4      NANGWANDA GIRLS' SECONDARY SCHOOL    HKL  Boarding School   \n",
       "5            CHIUNGUTWA SECONDARY SCHOOL    HKL  Boarding School   \n",
       "...                                  ...    ...              ...   \n",
       "36308           NAWENGE SECONDARY SCHOOL    CBG  Boarding School   \n",
       "36309            LUGOBA SECONDARY SCHOOL    PCM  Boarding School   \n",
       "36312          KAHORORO SECONDARY SCHOOL    HKL  Boarding School   \n",
       "36313            IHUNGO SECONDARY SCHOOL    EGM  Boarding School   \n",
       "36314        MAWELEWELE SECONDARY SCHOOL    CBG  Boarding School   \n",
       "\n",
       "                     location  \n",
       "0          SONGEA MC - RUVUMA  \n",
       "1         MPWAPWA DC - DODOMA  \n",
       "3      MOROGORO DC - MOROGORO  \n",
       "4          NEWALA TC - MTWARA  \n",
       "5          MASASI DC - MTWARA  \n",
       "...                       ...  \n",
       "36308    ULANGA DC - MOROGORO  \n",
       "36309     CHALINZE DC - PWANI  \n",
       "36312      BUKOBA MC - KAGERA  \n",
       "36313      BUKOBA MC - KAGERA  \n",
       "36314      IRINGA MC - IRINGA  \n",
       "\n",
       "[22043 rows x 7 columns]"
      ]
     },
     "execution_count": 9,
     "metadata": {},
     "output_type": "execute_result"
    }
   ],
   "source": [
    "data"
   ]
  },
  {
   "cell_type": "code",
   "execution_count": 10,
   "metadata": {},
   "outputs": [],
   "source": [
    "courses = data.course.unique()"
   ]
  },
  {
   "cell_type": "code",
   "execution_count": 11,
   "metadata": {},
   "outputs": [
    {
     "data": {
      "text/plain": [
       "array(['HGK', 'HKL', 'EGM', 'HGL', 'CBG', 'PCB', 'PCM', 'HGE', 'PGM',\n",
       "       'ECA', 'KLF', 'KEC', 'CBN', 'PMCs', 'CBA'], dtype=object)"
      ]
     },
     "execution_count": 11,
     "metadata": {},
     "output_type": "execute_result"
    }
   ],
   "source": [
    "courses"
   ]
  },
  {
   "cell_type": "code",
   "execution_count": 12,
   "metadata": {},
   "outputs": [
    {
     "data": {
      "text/plain": [
       "15"
      ]
     },
     "execution_count": 12,
     "metadata": {},
     "output_type": "execute_result"
    }
   ],
   "source": [
    "len(courses)"
   ]
  },
  {
   "cell_type": "code",
   "execution_count": 13,
   "metadata": {},
   "outputs": [],
   "source": [
    "H = 'History'\n",
    "G = 'Geography'\n",
    "K = 'Kiswahili'\n",
    "L = 'English Language'\n",
    "E = 'Economics'\n",
    "M = 'Advance Mathematics'\n",
    "C = 'Chemistry'\n",
    "B = 'Bilogy'\n",
    "p = 'Physics'\n",
    "A = 'Agriculture'\n",
    "F = 'Franch'\n",
    "N = 'Neutrition'"
   ]
  },
  {
   "cell_type": "code",
   "execution_count": 14,
   "metadata": {},
   "outputs": [],
   "source": [
    "subjects = {'HGK':[], 'HKL':[], 'EGM':[], 'HGL':[], 'CBG':[], 'PCB':[], 'PCM':[], 'HGE':[], 'PGM':[],\n",
    "       'ECA':[], 'KLF':[], 'KEC':[], 'CBN':[], 'PMCs':[], 'CBA':[]}"
   ]
  },
  {
   "cell_type": "code",
   "execution_count": 15,
   "metadata": {},
   "outputs": [],
   "source": [
    "j = 0\n",
    "while True:\n",
    "    comb = courses[j]\n",
    "    subj = ''\n",
    "    for i in comb:\n",
    "        if i == 'H': \n",
    "            subj = 'History'\n",
    "        \n",
    "        elif i == 'G': \n",
    "            subj='Geography'\n",
    "        \n",
    "        elif i == 'K': \n",
    "            subj='Kiswahili'\n",
    "        \n",
    "        elif i == 'L': \n",
    "            subj='English Language'\n",
    "        \n",
    "        elif i == 'E': \n",
    "            subj='Economics'\n",
    "        \n",
    "        elif i == 'M': \n",
    "            subj='Advance Mathematics'\n",
    "        \n",
    "        elif i == 'C': \n",
    "            subj='Chemistry'\n",
    "        \n",
    "        elif i == 'B': \n",
    "            subj='Bilogy'\n",
    "        \n",
    "        elif i == 'P': \n",
    "            subj='Physics'\n",
    "        \n",
    "        elif i == 'A': \n",
    "            subj='Agriculture'\n",
    "        \n",
    "        elif i == 'F': \n",
    "            subj='Franch'\n",
    "        \n",
    "        elif i == 'N': \n",
    "            subj='Neutrition'\n",
    "        subjects[comb].append(subj)\n",
    "    j +=1\n",
    "    if j ==15:\n",
    "        break"
   ]
  },
  {
   "cell_type": "code",
   "execution_count": 16,
   "metadata": {},
   "outputs": [
    {
     "data": {
      "text/plain": [
       "{'HGK': ['History', 'Geography', 'Kiswahili'],\n",
       " 'HKL': ['History', 'Kiswahili', 'English Language'],\n",
       " 'EGM': ['Economics', 'Geography', 'Advance Mathematics'],\n",
       " 'HGL': ['History', 'Geography', 'English Language'],\n",
       " 'CBG': ['Chemistry', 'Bilogy', 'Geography'],\n",
       " 'PCB': ['Physics', 'Chemistry', 'Bilogy'],\n",
       " 'PCM': ['Physics', 'Chemistry', 'Advance Mathematics'],\n",
       " 'HGE': ['History', 'Geography', 'Economics'],\n",
       " 'PGM': ['Physics', 'Geography', 'Advance Mathematics'],\n",
       " 'ECA': ['Economics', 'Chemistry', 'Agriculture'],\n",
       " 'KLF': ['Kiswahili', 'English Language', 'Franch'],\n",
       " 'KEC': ['Kiswahili', 'Economics', 'Chemistry'],\n",
       " 'CBN': ['Chemistry', 'Bilogy', 'Neutrition'],\n",
       " 'PMCs': ['Physics', 'Advance Mathematics', 'Chemistry', 'Chemistry'],\n",
       " 'CBA': ['Chemistry', 'Bilogy', 'Agriculture']}"
      ]
     },
     "execution_count": 16,
     "metadata": {},
     "output_type": "execute_result"
    }
   ],
   "source": [
    "subjects"
   ]
  },
  {
   "cell_type": "code",
   "execution_count": 17,
   "metadata": {},
   "outputs": [],
   "source": [
    "subjects['ECA'][1] = 'Commerce'\n",
    "subjects['PMCs'][2] = 'Computer'"
   ]
  },
  {
   "cell_type": "code",
   "execution_count": 18,
   "metadata": {},
   "outputs": [],
   "source": [
    "category = {'HGK':[], 'HKL':[], 'EGM':[], 'HGL':[], 'CBG':[], 'PCB':[], 'PCM':[], 'HGE':[], 'PGM':[],\n",
    "       'ECA':[], 'KLF':[], 'KEC':[], 'CBN':[], 'PMCs':[], 'CBA':[]}"
   ]
  },
  {
   "cell_type": "code",
   "execution_count": 19,
   "metadata": {},
   "outputs": [],
   "source": [
    "for comb in courses:\n",
    "    depart = ''\n",
    "    for i in comb:\n",
    "        if i == 'H' or i == 'K' or i == 'L':\n",
    "            depart = 'Arts'\n",
    "        elif i == 'P' or i == 'C':\n",
    "            depart = 'Science'\n",
    "        elif i == 'E':\n",
    "            depart = 'Economics'\n",
    "    category[comb].append(depart)"
   ]
  },
  {
   "cell_type": "code",
   "execution_count": 20,
   "metadata": {},
   "outputs": [
    {
     "data": {
      "text/plain": [
       "{'HGK': ['Arts'],\n",
       " 'HKL': ['Arts'],\n",
       " 'EGM': ['Economics'],\n",
       " 'HGL': ['Arts'],\n",
       " 'CBG': ['Science'],\n",
       " 'PCB': ['Science'],\n",
       " 'PCM': ['Science'],\n",
       " 'HGE': ['Economics'],\n",
       " 'PGM': ['Science'],\n",
       " 'ECA': ['Science'],\n",
       " 'KLF': ['Arts'],\n",
       " 'KEC': ['Science'],\n",
       " 'CBN': ['Science'],\n",
       " 'PMCs': ['Science'],\n",
       " 'CBA': ['Science']}"
      ]
     },
     "execution_count": 20,
     "metadata": {},
     "output_type": "execute_result"
    }
   ],
   "source": [
    "category"
   ]
  },
  {
   "cell_type": "code",
   "execution_count": 21,
   "metadata": {},
   "outputs": [],
   "source": [
    "category['ECA'][0]= 'Economics'\n",
    "category['KEC'][0] = 'Economics'"
   ]
  },
  {
   "cell_type": "code",
   "execution_count": 22,
   "metadata": {},
   "outputs": [
    {
     "data": {
      "text/html": [
       "<div>\n",
       "<style scoped>\n",
       "    .dataframe tbody tr th:only-of-type {\n",
       "        vertical-align: middle;\n",
       "    }\n",
       "\n",
       "    .dataframe tbody tr th {\n",
       "        vertical-align: top;\n",
       "    }\n",
       "\n",
       "    .dataframe thead th {\n",
       "        text-align: right;\n",
       "    }\n",
       "</style>\n",
       "<table border=\"1\" class=\"dataframe\">\n",
       "  <thead>\n",
       "    <tr style=\"text-align: right;\">\n",
       "      <th></th>\n",
       "      <th>Unnamed: 0</th>\n",
       "      <th>number</th>\n",
       "      <th>name</th>\n",
       "      <th>school_selected</th>\n",
       "      <th>course</th>\n",
       "      <th>type</th>\n",
       "      <th>location</th>\n",
       "    </tr>\n",
       "  </thead>\n",
       "  <tbody>\n",
       "    <tr>\n",
       "      <th>0</th>\n",
       "      <td>0</td>\n",
       "      <td>S0972.0004.2021</td>\n",
       "      <td>CHICHI DAUDI MALONGO</td>\n",
       "      <td>LONDONI SECONDARY SCHOOL</td>\n",
       "      <td>HGK</td>\n",
       "      <td>Boarding School</td>\n",
       "      <td>SONGEA MC - RUVUMA</td>\n",
       "    </tr>\n",
       "    <tr>\n",
       "      <th>1</th>\n",
       "      <td>1</td>\n",
       "      <td>S0972.0009.2021</td>\n",
       "      <td>ELICKA LEONARD EDWARD</td>\n",
       "      <td>KIBAKWE SECONDARY SCHOOL</td>\n",
       "      <td>HGK</td>\n",
       "      <td>Boarding School</td>\n",
       "      <td>MPWAPWA DC - DODOMA</td>\n",
       "    </tr>\n",
       "    <tr>\n",
       "      <th>3</th>\n",
       "      <td>3</td>\n",
       "      <td>S0972.0030.2021</td>\n",
       "      <td>MARTHA YONA CHIDANHA</td>\n",
       "      <td>MATOMBO SECONDARY SCHOOL</td>\n",
       "      <td>HKL</td>\n",
       "      <td>Boarding School</td>\n",
       "      <td>MOROGORO DC - MOROGORO</td>\n",
       "    </tr>\n",
       "    <tr>\n",
       "      <th>4</th>\n",
       "      <td>4</td>\n",
       "      <td>S0972.0031.2021</td>\n",
       "      <td>MARY GEORGE MTOKAMBALI</td>\n",
       "      <td>NANGWANDA GIRLS' SECONDARY SCHOOL</td>\n",
       "      <td>HKL</td>\n",
       "      <td>Boarding School</td>\n",
       "      <td>NEWALA TC - MTWARA</td>\n",
       "    </tr>\n",
       "    <tr>\n",
       "      <th>5</th>\n",
       "      <td>5</td>\n",
       "      <td>S0972.0032.2021</td>\n",
       "      <td>MERSE ATHANAS MRISHO</td>\n",
       "      <td>CHIUNGUTWA SECONDARY SCHOOL</td>\n",
       "      <td>HKL</td>\n",
       "      <td>Boarding School</td>\n",
       "      <td>MASASI DC - MTWARA</td>\n",
       "    </tr>\n",
       "  </tbody>\n",
       "</table>\n",
       "</div>"
      ],
      "text/plain": [
       "   Unnamed: 0           number                     name  \\\n",
       "0           0  S0972.0004.2021    CHICHI DAUDI MALONGO    \n",
       "1           1  S0972.0009.2021   ELICKA LEONARD EDWARD    \n",
       "3           3  S0972.0030.2021    MARTHA YONA CHIDANHA    \n",
       "4           4  S0972.0031.2021  MARY GEORGE MTOKAMBALI    \n",
       "5           5  S0972.0032.2021    MERSE ATHANAS MRISHO    \n",
       "\n",
       "                     school_selected course             type  \\\n",
       "0           LONDONI SECONDARY SCHOOL    HGK  Boarding School   \n",
       "1           KIBAKWE SECONDARY SCHOOL    HGK  Boarding School   \n",
       "3           MATOMBO SECONDARY SCHOOL    HKL  Boarding School   \n",
       "4  NANGWANDA GIRLS' SECONDARY SCHOOL    HKL  Boarding School   \n",
       "5        CHIUNGUTWA SECONDARY SCHOOL    HKL  Boarding School   \n",
       "\n",
       "                 location  \n",
       "0      SONGEA MC - RUVUMA  \n",
       "1     MPWAPWA DC - DODOMA  \n",
       "3  MOROGORO DC - MOROGORO  \n",
       "4      NEWALA TC - MTWARA  \n",
       "5      MASASI DC - MTWARA  "
      ]
     },
     "execution_count": 22,
     "metadata": {},
     "output_type": "execute_result"
    }
   ],
   "source": [
    "data.head()"
   ]
  },
  {
   "cell_type": "code",
   "execution_count": 23,
   "metadata": {},
   "outputs": [
    {
     "data": {
      "text/plain": [
       "array(['HGK', 'HKL', 'EGM', 'HGL', 'CBG', 'PCB', 'PCM', 'HGE', 'PGM',\n",
       "       'ECA', 'KLF', 'KEC', 'CBN', 'PMCs', 'CBA'], dtype=object)"
      ]
     },
     "execution_count": 23,
     "metadata": {},
     "output_type": "execute_result"
    }
   ],
   "source": [
    "courses"
   ]
  },
  {
   "cell_type": "code",
   "execution_count": 24,
   "metadata": {},
   "outputs": [],
   "source": [
    "subj_depart = {'History':[], 'Geography':[], 'Kiswahili':[], 'English Language':[], 'Economics':[], 'Advance Mathematics':[], 'Chemistry':[], 'Bilogy':[], 'Physics':[], 'Agriculture':[], 'Franch':[], 'Neutrition':[],'Commerce':[], 'Computer':[]}"
   ]
  },
  {
   "cell_type": "code",
   "execution_count": 25,
   "metadata": {},
   "outputs": [],
   "source": [
    "all_subjects = ['History', 'Geography', 'Kiswahili', 'English Language', 'Economics', 'Advance Mathematics', 'Chemistry', 'Bilogy', 'Physics', 'Agriculture', 'Franch', 'Neutrition', 'Commerce', 'Computer']"
   ]
  },
  {
   "cell_type": "code",
   "execution_count": 26,
   "metadata": {},
   "outputs": [],
   "source": [
    "for i in all_subjects:\n",
    "    if i == 'History':\n",
    "        subj_dept ='Arts'\n",
    "    elif i == 'Geography':\n",
    "        subj_dept ='Science'\n",
    "    elif i == 'Kiswahili':\n",
    "        subj_dept ='Arts'\n",
    "    elif i == 'English Language':\n",
    "        subj_dept ='Arts'\n",
    "    elif i == 'Economics':\n",
    "        subj_dept ='Economics'\n",
    "    elif i == 'Advance Mathematics':\n",
    "        subj_dept ='Science'\n",
    "    elif i == 'Chemistry':\n",
    "        subj_dept ='Science'\n",
    "    elif i == 'Bilogy':\n",
    "        subj_dept ='Science'\n",
    "    elif i == 'Physics':\n",
    "        subj_dept ='Science'\n",
    "    elif i == 'Agriculture':\n",
    "        subj_dept ='Science'\n",
    "    elif i == 'Franch':\n",
    "        subj_dept = 'Arts'\n",
    "    elif i == 'Neutrition':\n",
    "        subj_dept ='Science'\n",
    "    elif i == 'Commerce':\n",
    "        subj_dept ='Economics'\n",
    "    elif i == 'Computer':\n",
    "        subj_dept ='Science'\n",
    "    subj_depart[i].append(subj_dept)\n",
    "        "
   ]
  },
  {
   "cell_type": "code",
   "execution_count": 27,
   "metadata": {},
   "outputs": [
    {
     "data": {
      "text/plain": [
       "{'History': ['Arts'],\n",
       " 'Geography': ['Science'],\n",
       " 'Kiswahili': ['Arts'],\n",
       " 'English Language': ['Arts'],\n",
       " 'Economics': ['Economics'],\n",
       " 'Advance Mathematics': ['Science'],\n",
       " 'Chemistry': ['Science'],\n",
       " 'Bilogy': ['Science'],\n",
       " 'Physics': ['Science'],\n",
       " 'Agriculture': ['Science'],\n",
       " 'Franch': ['Arts'],\n",
       " 'Neutrition': ['Science'],\n",
       " 'Commerce': ['Economics'],\n",
       " 'Computer': ['Science']}"
      ]
     },
     "execution_count": 27,
     "metadata": {},
     "output_type": "execute_result"
    }
   ],
   "source": [
    "subj_depart"
   ]
  },
  {
   "cell_type": "code",
   "execution_count": 28,
   "metadata": {},
   "outputs": [],
   "source": [
    "for index ,row  in data.iterrows():\n",
    "    course=row[\"course\"]\n",
    "    subject = subjects[course]\n",
    "    department = category[course]\n",
    "    data.at[index,\"Department\"]=department[0]\n",
    "    data.at[index,\"Subjects1\"]=subject[0]\n",
    "    data.at[index,\"Subjects1_deparment\"]=subj_depart[subject[0]][0]\n",
    "    \n",
    "    data.at[index,\"Subjects2\"]=subject[1]\n",
    "    data.at[index,\"Subjects2_deparment\"]=subj_depart[subject[1]][0]\n",
    "    data.at[index,\"Subjects3\"]=subject[2]\n",
    "    data.at[index,\"Subjects3_deparment\"]=subj_depart[subject[2]][0]\n",
    "    data.at[index,\"Subjects4\"]='General Studies'\n",
    "    data.at[index,\"Subjects4_deparment\"]='GS'\n",
    "    \n",
    "    if course == 'PCB' or course == 'CBG' or course == 'HGE' or course == 'CBN' or course == 'KEC':\n",
    "         \n",
    "        data.at[index,\"Subjects5\"]='Basic Applied Mathematics'\n",
    "        data.at[index,\"Subjects5_deparment\"]='Science'\n",
    "    else:\n",
    "        data.at[index,\"Subjects5\"]='--'\n",
    "        data.at[index,\"Subjects5_deparment\"]='Science'\n",
    "    \n",
    "    "
   ]
  },
  {
   "cell_type": "code",
   "execution_count": 29,
   "metadata": {},
   "outputs": [],
   "source": [
    "data['Level'] = 'Advance'"
   ]
  },
  {
   "cell_type": "code",
   "execution_count": 30,
   "metadata": {},
   "outputs": [],
   "source": [
    "data['class1'] = 'Form Five'\n",
    "data['class1'] = 'Form Six'"
   ]
  },
  {
   "cell_type": "code",
   "execution_count": 31,
   "metadata": {},
   "outputs": [
    {
     "data": {
      "text/html": [
       "<div>\n",
       "<style scoped>\n",
       "    .dataframe tbody tr th:only-of-type {\n",
       "        vertical-align: middle;\n",
       "    }\n",
       "\n",
       "    .dataframe tbody tr th {\n",
       "        vertical-align: top;\n",
       "    }\n",
       "\n",
       "    .dataframe thead th {\n",
       "        text-align: right;\n",
       "    }\n",
       "</style>\n",
       "<table border=\"1\" class=\"dataframe\">\n",
       "  <thead>\n",
       "    <tr style=\"text-align: right;\">\n",
       "      <th></th>\n",
       "      <th>Unnamed: 0</th>\n",
       "      <th>number</th>\n",
       "      <th>name</th>\n",
       "      <th>school_selected</th>\n",
       "      <th>course</th>\n",
       "      <th>type</th>\n",
       "      <th>location</th>\n",
       "      <th>Department</th>\n",
       "      <th>Subjects1</th>\n",
       "      <th>Subjects1_deparment</th>\n",
       "      <th>Subjects2</th>\n",
       "      <th>Subjects2_deparment</th>\n",
       "      <th>Subjects3</th>\n",
       "      <th>Subjects3_deparment</th>\n",
       "      <th>Subjects4</th>\n",
       "      <th>Subjects4_deparment</th>\n",
       "      <th>Subjects5</th>\n",
       "      <th>Subjects5_deparment</th>\n",
       "      <th>Level</th>\n",
       "      <th>class1</th>\n",
       "    </tr>\n",
       "  </thead>\n",
       "  <tbody>\n",
       "    <tr>\n",
       "      <th>0</th>\n",
       "      <td>0</td>\n",
       "      <td>S0972.0004.2021</td>\n",
       "      <td>CHICHI DAUDI MALONGO</td>\n",
       "      <td>LONDONI SECONDARY SCHOOL</td>\n",
       "      <td>HGK</td>\n",
       "      <td>Boarding School</td>\n",
       "      <td>SONGEA MC - RUVUMA</td>\n",
       "      <td>Arts</td>\n",
       "      <td>History</td>\n",
       "      <td>Arts</td>\n",
       "      <td>Geography</td>\n",
       "      <td>Science</td>\n",
       "      <td>Kiswahili</td>\n",
       "      <td>Arts</td>\n",
       "      <td>General Studies</td>\n",
       "      <td>GS</td>\n",
       "      <td>--</td>\n",
       "      <td>Science</td>\n",
       "      <td>Advance</td>\n",
       "      <td>Form Six</td>\n",
       "    </tr>\n",
       "    <tr>\n",
       "      <th>1</th>\n",
       "      <td>1</td>\n",
       "      <td>S0972.0009.2021</td>\n",
       "      <td>ELICKA LEONARD EDWARD</td>\n",
       "      <td>KIBAKWE SECONDARY SCHOOL</td>\n",
       "      <td>HGK</td>\n",
       "      <td>Boarding School</td>\n",
       "      <td>MPWAPWA DC - DODOMA</td>\n",
       "      <td>Arts</td>\n",
       "      <td>History</td>\n",
       "      <td>Arts</td>\n",
       "      <td>Geography</td>\n",
       "      <td>Science</td>\n",
       "      <td>Kiswahili</td>\n",
       "      <td>Arts</td>\n",
       "      <td>General Studies</td>\n",
       "      <td>GS</td>\n",
       "      <td>--</td>\n",
       "      <td>Science</td>\n",
       "      <td>Advance</td>\n",
       "      <td>Form Six</td>\n",
       "    </tr>\n",
       "    <tr>\n",
       "      <th>3</th>\n",
       "      <td>3</td>\n",
       "      <td>S0972.0030.2021</td>\n",
       "      <td>MARTHA YONA CHIDANHA</td>\n",
       "      <td>MATOMBO SECONDARY SCHOOL</td>\n",
       "      <td>HKL</td>\n",
       "      <td>Boarding School</td>\n",
       "      <td>MOROGORO DC - MOROGORO</td>\n",
       "      <td>Arts</td>\n",
       "      <td>History</td>\n",
       "      <td>Arts</td>\n",
       "      <td>Kiswahili</td>\n",
       "      <td>Arts</td>\n",
       "      <td>English Language</td>\n",
       "      <td>Arts</td>\n",
       "      <td>General Studies</td>\n",
       "      <td>GS</td>\n",
       "      <td>--</td>\n",
       "      <td>Science</td>\n",
       "      <td>Advance</td>\n",
       "      <td>Form Six</td>\n",
       "    </tr>\n",
       "    <tr>\n",
       "      <th>4</th>\n",
       "      <td>4</td>\n",
       "      <td>S0972.0031.2021</td>\n",
       "      <td>MARY GEORGE MTOKAMBALI</td>\n",
       "      <td>NANGWANDA GIRLS' SECONDARY SCHOOL</td>\n",
       "      <td>HKL</td>\n",
       "      <td>Boarding School</td>\n",
       "      <td>NEWALA TC - MTWARA</td>\n",
       "      <td>Arts</td>\n",
       "      <td>History</td>\n",
       "      <td>Arts</td>\n",
       "      <td>Kiswahili</td>\n",
       "      <td>Arts</td>\n",
       "      <td>English Language</td>\n",
       "      <td>Arts</td>\n",
       "      <td>General Studies</td>\n",
       "      <td>GS</td>\n",
       "      <td>--</td>\n",
       "      <td>Science</td>\n",
       "      <td>Advance</td>\n",
       "      <td>Form Six</td>\n",
       "    </tr>\n",
       "    <tr>\n",
       "      <th>5</th>\n",
       "      <td>5</td>\n",
       "      <td>S0972.0032.2021</td>\n",
       "      <td>MERSE ATHANAS MRISHO</td>\n",
       "      <td>CHIUNGUTWA SECONDARY SCHOOL</td>\n",
       "      <td>HKL</td>\n",
       "      <td>Boarding School</td>\n",
       "      <td>MASASI DC - MTWARA</td>\n",
       "      <td>Arts</td>\n",
       "      <td>History</td>\n",
       "      <td>Arts</td>\n",
       "      <td>Kiswahili</td>\n",
       "      <td>Arts</td>\n",
       "      <td>English Language</td>\n",
       "      <td>Arts</td>\n",
       "      <td>General Studies</td>\n",
       "      <td>GS</td>\n",
       "      <td>--</td>\n",
       "      <td>Science</td>\n",
       "      <td>Advance</td>\n",
       "      <td>Form Six</td>\n",
       "    </tr>\n",
       "  </tbody>\n",
       "</table>\n",
       "</div>"
      ],
      "text/plain": [
       "   Unnamed: 0           number                     name  \\\n",
       "0           0  S0972.0004.2021    CHICHI DAUDI MALONGO    \n",
       "1           1  S0972.0009.2021   ELICKA LEONARD EDWARD    \n",
       "3           3  S0972.0030.2021    MARTHA YONA CHIDANHA    \n",
       "4           4  S0972.0031.2021  MARY GEORGE MTOKAMBALI    \n",
       "5           5  S0972.0032.2021    MERSE ATHANAS MRISHO    \n",
       "\n",
       "                     school_selected course             type  \\\n",
       "0           LONDONI SECONDARY SCHOOL    HGK  Boarding School   \n",
       "1           KIBAKWE SECONDARY SCHOOL    HGK  Boarding School   \n",
       "3           MATOMBO SECONDARY SCHOOL    HKL  Boarding School   \n",
       "4  NANGWANDA GIRLS' SECONDARY SCHOOL    HKL  Boarding School   \n",
       "5        CHIUNGUTWA SECONDARY SCHOOL    HKL  Boarding School   \n",
       "\n",
       "                 location Department Subjects1 Subjects1_deparment  Subjects2  \\\n",
       "0      SONGEA MC - RUVUMA       Arts   History                Arts  Geography   \n",
       "1     MPWAPWA DC - DODOMA       Arts   History                Arts  Geography   \n",
       "3  MOROGORO DC - MOROGORO       Arts   History                Arts  Kiswahili   \n",
       "4      NEWALA TC - MTWARA       Arts   History                Arts  Kiswahili   \n",
       "5      MASASI DC - MTWARA       Arts   History                Arts  Kiswahili   \n",
       "\n",
       "  Subjects2_deparment         Subjects3 Subjects3_deparment        Subjects4  \\\n",
       "0             Science         Kiswahili                Arts  General Studies   \n",
       "1             Science         Kiswahili                Arts  General Studies   \n",
       "3                Arts  English Language                Arts  General Studies   \n",
       "4                Arts  English Language                Arts  General Studies   \n",
       "5                Arts  English Language                Arts  General Studies   \n",
       "\n",
       "  Subjects4_deparment Subjects5 Subjects5_deparment    Level    class1  \n",
       "0                  GS        --             Science  Advance  Form Six  \n",
       "1                  GS        --             Science  Advance  Form Six  \n",
       "3                  GS        --             Science  Advance  Form Six  \n",
       "4                  GS        --             Science  Advance  Form Six  \n",
       "5                  GS        --             Science  Advance  Form Six  "
      ]
     },
     "execution_count": 31,
     "metadata": {},
     "output_type": "execute_result"
    }
   ],
   "source": [
    "data.head()"
   ]
  },
  {
   "cell_type": "code",
   "execution_count": 32,
   "metadata": {},
   "outputs": [
    {
     "data": {
      "text/plain": [
       "'Science'"
      ]
     },
     "execution_count": 32,
     "metadata": {},
     "output_type": "execute_result"
    }
   ],
   "source": [
    "data[data['course'] == 'PCM']['Department'].iloc[0]"
   ]
  },
  {
   "cell_type": "code",
   "execution_count": 33,
   "metadata": {},
   "outputs": [
    {
     "name": "stdout",
     "output_type": "stream",
     "text": [
      "1\n",
      "2\n",
      "3\n"
     ]
    }
   ],
   "source": [
    "for i in range(1,4):\n",
    "    print(i)"
   ]
  },
  {
   "cell_type": "code",
   "execution_count": 34,
   "metadata": {},
   "outputs": [
    {
     "data": {
      "text/plain": [
       "Index(['Unnamed: 0', 'number', 'name', 'school_selected', 'course', 'type',\n",
       "       'location', 'Department', 'Subjects1', 'Subjects1_deparment',\n",
       "       'Subjects2', 'Subjects2_deparment', 'Subjects3', 'Subjects3_deparment',\n",
       "       'Subjects4', 'Subjects4_deparment', 'Subjects5', 'Subjects5_deparment',\n",
       "       'Level', 'class1'],\n",
       "      dtype='object')"
      ]
     },
     "execution_count": 34,
     "metadata": {},
     "output_type": "execute_result"
    }
   ],
   "source": [
    "data.columns"
   ]
  },
  {
   "cell_type": "code",
   "execution_count": 35,
   "metadata": {},
   "outputs": [
    {
     "data": {
      "text/plain": [
       "array(['HGK', 'HKL', 'EGM', 'HGL', 'CBG', 'PCB', 'PCM', 'HGE', 'PGM',\n",
       "       'ECA', 'KLF', 'KEC', 'CBN', 'PMCs', 'CBA'], dtype=object)"
      ]
     },
     "execution_count": 35,
     "metadata": {},
     "output_type": "execute_result"
    }
   ],
   "source": [
    "data.course.unique()"
   ]
  },
  {
   "cell_type": "code",
   "execution_count": 36,
   "metadata": {},
   "outputs": [],
   "source": [
    "import random"
   ]
  },
  {
   "cell_type": "code",
   "execution_count": 37,
   "metadata": {},
   "outputs": [],
   "source": [
    "def checking_subject(timetable, subject):\n",
    "    is_present = False\n",
    "    for tb in timetable:\n",
    "        for tb_depa in tb:\n",
    "            if tb['subject'] == subject:\n",
    "                is_present =True\n",
    "    return is_present"
   ]
  },
  {
   "cell_type": "code",
   "execution_count": 38,
   "metadata": {},
   "outputs": [],
   "source": [
    "def checking_subject_Comb(subject, combs):\n",
    "    for comb in combs:\n",
    "        course_data = data[data['course'] ==comb].iloc[0]\n",
    "        # dumping data to an array\n",
    "        subjects_data = []\n",
    "        \n",
    "        for i in range(1,5):\n",
    "            subject_txt = 'Subjects'+str(i)\n",
    "       \n",
    "        "
   ]
  },
  {
   "cell_type": "code",
   "execution_count": 39,
   "metadata": {},
   "outputs": [
    {
     "data": {
      "text/plain": [
       "[{'seasion': 'morning', 'subject': 'History', 'start_time': 2, 'end_time': 5},\n",
       " {'seasion': 'afternoon',\n",
       "  'subject': 'Kiswahili',\n",
       "  'start_time': 8,\n",
       "  'end_time': 11},\n",
       " {'seasion': 'morning',\n",
       "  'subject': 'English Language',\n",
       "  'start_time': 2,\n",
       "  'end_time': 5},\n",
       " {'seasion': 'morning',\n",
       "  'subject': 'General Studies',\n",
       "  'start_time': 2,\n",
       "  'end_time': 5},\n",
       " {'seasion': 'morning',\n",
       "  'subject': 'Geography',\n",
       "  'start_time': 2,\n",
       "  'end_time': 5},\n",
       " {'seasion': 'morning',\n",
       "  'subject': 'Advance Mathematics',\n",
       "  'start_time': 2,\n",
       "  'end_time': 5},\n",
       " {'seasion': 'morning',\n",
       "  'subject': 'Chemistry',\n",
       "  'start_time': 2,\n",
       "  'end_time': 5},\n",
       " {'seasion': 'morning', 'subject': 'Physics', 'start_time': 2, 'end_time': 5},\n",
       " {'seasion': 'afternoon',\n",
       "  'subject': 'Bilogy',\n",
       "  'start_time': 8,\n",
       "  'end_time': 11}]"
      ]
     },
     "execution_count": 39,
     "metadata": {},
     "output_type": "execute_result"
    }
   ],
   "source": [
    "def A_Level_timetable(combs):\n",
    "    \n",
    "    timetable = []\n",
    "    for comb in combs:\n",
    "        course_data = data[data['course'] ==comb].iloc[0]\n",
    "        # dumping data to an array\n",
    "        subjects_data = []\n",
    "        \n",
    "        for i in range(1,5):\n",
    "            subject_txt = 'Subjects'+str(i)\n",
    "            subject_depa_txt = 'Subjects'+str(i)+ '_deparment'\n",
    "            subjects_data.append({'subject':course_data[subject_txt],\n",
    "                            'department':course_data[subject_depa_txt]})\n",
    "        \n",
    "        start_time = [8,2]\n",
    "        total_subject = len(subjects_data)\n",
    "        subjects_data_copy  =total_subject\n",
    "        i=total_subject\n",
    "        while True:\n",
    "            total_subject = len(subjects_data)\n",
    "            index = random.randint(0,total_subject)\n",
    "            try:\n",
    "                value = subjects_data[index-1]\n",
    "                subjects_data.remove(value)\n",
    "                if i%2 == 0:\n",
    "                    if not checking_subject(timetable=timetable, subject=value['subject']):\n",
    "                        timetable.append(\n",
    "                            {'seasion':'morning',\n",
    "                            'subject':value['subject'],\n",
    "                            'start_time':start_time[1],\n",
    "                            'end_time': start_time[1]+3\n",
    "                            })\n",
    "                else:\n",
    "                    if not checking_subject(timetable=timetable, subject=value['subject']):\n",
    "                        timetable.append(\n",
    "                        {'seasion':'afternoon',\n",
    "                        'subject':value['subject'],\n",
    "                        'start_time':start_time[0],\n",
    "                        'end_time': start_time[0]+3\n",
    "                        })\n",
    "            except:\n",
    "                pass\n",
    "            i-=1\n",
    "            \n",
    "            if i <=1:\n",
    "                break \n",
    "\n",
    "        value =subjects_data[0]\n",
    "        if subjects_data_copy%2 == 0:\n",
    "            if not checking_subject(timetable=timetable, subject=value['subject']):\n",
    "                        \n",
    "                timetable.append(\n",
    "            {'seasion':'morning',\n",
    "            'subject':value['subject'],\n",
    "            'start_time':start_time[1],\n",
    "            'end_time': start_time[1]+3\n",
    "            })\n",
    "        else:\n",
    "            if not checking_subject(timetable=timetable, subject=value['subject']):            \n",
    "                timetable.append(\n",
    "            {'seasion':'afternoon',\n",
    "            'subject':value['subject'],\n",
    "            'start_time':start_time[0],\n",
    "            'end_time': start_time[0]+3\n",
    "            })\n",
    "        \n",
    "    return timetable\n",
    "A_Level_timetable(['HKL', 'HGK', 'PCM', 'PCB', 'CBG'])"
   ]
  },
  {
   "cell_type": "code",
   "execution_count": 40,
   "metadata": {},
   "outputs": [
    {
     "data": {
      "text/plain": [
       "{'HGK': ['History', 'Geography', 'Kiswahili'],\n",
       " 'HKL': ['History', 'Kiswahili', 'English Language'],\n",
       " 'EGM': ['Economics', 'Geography', 'Advance Mathematics'],\n",
       " 'HGL': ['History', 'Geography', 'English Language'],\n",
       " 'CBG': ['Chemistry', 'Bilogy', 'Geography'],\n",
       " 'PCB': ['Physics', 'Chemistry', 'Bilogy'],\n",
       " 'PCM': ['Physics', 'Chemistry', 'Advance Mathematics'],\n",
       " 'HGE': ['History', 'Geography', 'Economics'],\n",
       " 'PGM': ['Physics', 'Geography', 'Advance Mathematics'],\n",
       " 'ECA': ['Economics', 'Commerce', 'Agriculture'],\n",
       " 'KLF': ['Kiswahili', 'English Language', 'Franch'],\n",
       " 'KEC': ['Kiswahili', 'Economics', 'Chemistry'],\n",
       " 'CBN': ['Chemistry', 'Bilogy', 'Neutrition'],\n",
       " 'PMCs': ['Physics', 'Advance Mathematics', 'Computer', 'Chemistry'],\n",
       " 'CBA': ['Chemistry', 'Bilogy', 'Agriculture']}"
      ]
     },
     "execution_count": 40,
     "metadata": {},
     "output_type": "execute_result"
    }
   ],
   "source": [
    "subjects"
   ]
  },
  {
   "cell_type": "code",
   "execution_count": 41,
   "metadata": {},
   "outputs": [],
   "source": [
    "data.to_csv('advance.csv', index=False)"
   ]
  }
 ],
 "metadata": {
  "kernelspec": {
   "display_name": "base",
   "language": "python",
   "name": "python3"
  },
  "language_info": {
   "codemirror_mode": {
    "name": "ipython",
    "version": 3
   },
   "file_extension": ".py",
   "mimetype": "text/x-python",
   "name": "python",
   "nbconvert_exporter": "python",
   "pygments_lexer": "ipython3",
   "version": "3.8.5"
  },
  "orig_nbformat": 4,
  "vscode": {
   "interpreter": {
    "hash": "f08154012ddadd8e950e6e9e035c7a7b32c136e7647e9b7c77e02eb723a8bedb"
   }
  }
 },
 "nbformat": 4,
 "nbformat_minor": 2
}
